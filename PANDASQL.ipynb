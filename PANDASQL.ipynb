{
  "nbformat": 4,
  "nbformat_minor": 0,
  "metadata": {
    "colab": {
      "provenance": []
    },
    "kernelspec": {
      "name": "python3",
      "display_name": "Python 3"
    },
    "language_info": {
      "name": "python"
    }
  },
  "cells": [
    {
      "cell_type": "code",
      "execution_count": 1,
      "metadata": {
        "colab": {
          "base_uri": "https://localhost:8080/"
        },
        "id": "2_cZQ9njWZ9t",
        "outputId": "40f02323-605f-4950-9f35-148c7fb03a97"
      },
      "outputs": [
        {
          "output_type": "stream",
          "name": "stdout",
          "text": [
            "Collecting pandasql\n",
            "  Downloading pandasql-0.7.3.tar.gz (26 kB)\n",
            "  Preparing metadata (setup.py) ... \u001b[?25l\u001b[?25hdone\n",
            "Requirement already satisfied: numpy in /usr/local/lib/python3.10/dist-packages (from pandasql) (1.26.4)\n",
            "Requirement already satisfied: pandas in /usr/local/lib/python3.10/dist-packages (from pandasql) (2.2.2)\n",
            "Requirement already satisfied: sqlalchemy in /usr/local/lib/python3.10/dist-packages (from pandasql) (2.0.36)\n",
            "Requirement already satisfied: python-dateutil>=2.8.2 in /usr/local/lib/python3.10/dist-packages (from pandas->pandasql) (2.8.2)\n",
            "Requirement already satisfied: pytz>=2020.1 in /usr/local/lib/python3.10/dist-packages (from pandas->pandasql) (2024.2)\n",
            "Requirement already satisfied: tzdata>=2022.7 in /usr/local/lib/python3.10/dist-packages (from pandas->pandasql) (2024.2)\n",
            "Requirement already satisfied: typing-extensions>=4.6.0 in /usr/local/lib/python3.10/dist-packages (from sqlalchemy->pandasql) (4.12.2)\n",
            "Requirement already satisfied: greenlet!=0.4.17 in /usr/local/lib/python3.10/dist-packages (from sqlalchemy->pandasql) (3.1.1)\n",
            "Requirement already satisfied: six>=1.5 in /usr/local/lib/python3.10/dist-packages (from python-dateutil>=2.8.2->pandas->pandasql) (1.16.0)\n",
            "Building wheels for collected packages: pandasql\n",
            "  Building wheel for pandasql (setup.py) ... \u001b[?25l\u001b[?25hdone\n",
            "  Created wheel for pandasql: filename=pandasql-0.7.3-py3-none-any.whl size=26772 sha256=2ad23d8b183da8d3e3c43f53c7be5555b40ddb5ebd39b6150db7456754ed83b8\n",
            "  Stored in directory: /root/.cache/pip/wheels/e9/bc/3a/8434bdcccf5779e72894a9b24fecbdcaf97940607eaf4bcdf9\n",
            "Successfully built pandasql\n",
            "Installing collected packages: pandasql\n",
            "Successfully installed pandasql-0.7.3\n"
          ]
        }
      ],
      "source": [
        "%pip install pandasql"
      ]
    },
    {
      "cell_type": "code",
      "source": [
        "import pandas as pd\n",
        "from pandasql import sqldf"
      ],
      "metadata": {
        "id": "Z2fpFcclX4t_"
      },
      "execution_count": null,
      "outputs": []
    },
    {
      "cell_type": "code",
      "source": [
        "#Write a Pandasql query to select the first 10 rows of a DataFrame\n",
        "data={'column1':[1,2,3,4,5,6,7,8,9,10,11,12],\n",
        "      'column2':['A','B','C','D','E','F','G','K','L','M','N','O']}\n",
        "df=pd.DataFrame(data)\n",
        "def run_query(query):\n",
        "   return sqldf(query,{\"df\":df})\n",
        "result=run_query(\"SELECT * FROM df LIMIT 10\")\n",
        "print(result)\n"
      ],
      "metadata": {
        "colab": {
          "base_uri": "https://localhost:8080/"
        },
        "id": "DD8joWDmX-os",
        "outputId": "ed182bb9-3f84-4c31-9c0f-e715d676351d"
      },
      "execution_count": null,
      "outputs": [
        {
          "output_type": "stream",
          "name": "stdout",
          "text": [
            "   column1 column2\n",
            "0        1       A\n",
            "1        2       B\n",
            "2        3       C\n",
            "3        4       D\n",
            "4        5       E\n",
            "5        6       F\n",
            "6        7       G\n",
            "7        8       K\n",
            "8        9       L\n",
            "9       10       M\n"
          ]
        }
      ]
    },
    {
      "cell_type": "code",
      "source": [
        "#Write a Pandasql query to select all columns for rows where the 'age' is greater than 30\n",
        "data={'gender':['Male','Female','Male','Female', 'Other']}\n",
        "df=pd.DataFrame(data)\n",
        "unique_gender=df['gender'].unique()\n",
        "print(unique_gender)\n"
      ],
      "metadata": {
        "colab": {
          "base_uri": "https://localhost:8080/"
        },
        "id": "F9yoJgjbfVRW",
        "outputId": "dffcd13c-c773-457c-ddfc-a2683de7e92d"
      },
      "execution_count": null,
      "outputs": [
        {
          "output_type": "stream",
          "name": "stdout",
          "text": [
            "['Male' 'Female' 'Other']\n"
          ]
        }
      ]
    },
    {
      "cell_type": "code",
      "source": [
        "from pandasql import sqldf\n",
        "import pandas as pd\n",
        "data={'city':['New york','california','nairobi'],\n",
        "      'age':[10,20,30]}\n",
        "df=pd.DataFrame(data)\n",
        "def run_query(query):\n",
        "   return sqldf(query,{'df':df})\n",
        "\n",
        "query = \"\"\"\n",
        "SELECT *\n",
        "FROM df\n",
        "WHERE city = 'New York' AND age < 40;\n",
        "\"\"\"\n",
        "\n",
        "result=run_query(query)\n",
        "print(result)\n"
      ],
      "metadata": {
        "colab": {
          "base_uri": "https://localhost:8080/"
        },
        "id": "NBPkt-p2heac",
        "outputId": "8d3634c6-459e-4656-c803-b74f8a69f6c1"
      },
      "execution_count": null,
      "outputs": [
        {
          "output_type": "stream",
          "name": "stdout",
          "text": [
            "Empty DataFrame\n",
            "Columns: [city, age]\n",
            "Index: []\n"
          ]
        }
      ]
    },
    {
      "cell_type": "code",
      "source": [
        "from pandasql import sqldf\n",
        "import pandas as pd\n",
        "\n",
        "\n",
        "data={'city':['New york','california','nairobi'],\n",
        "      'age':[10,20,30]}\n",
        "df=pd.DataFrame(data)\n",
        "\n",
        "def run_query(query):\n",
        "   return sqldf(query,{'df':df})\n",
        "\n",
        "query = \"\"\"\n",
        "SELECT *\n",
        "FROM df\n",
        "WHERE city = 'New york' AND age < 40;\n",
        "\"\"\"\n",
        "\n",
        "result=run_query(query)\n",
        "print(result)"
      ],
      "metadata": {
        "colab": {
          "base_uri": "https://localhost:8080/"
        },
        "id": "IWlFSqKAlAvh",
        "outputId": "057cea1a-7769-4cd6-b800-a900a3c745b7"
      },
      "execution_count": null,
      "outputs": [
        {
          "output_type": "stream",
          "name": "stdout",
          "text": [
            "       city  age\n",
            "0  New york   10\n"
          ]
        }
      ]
    },
    {
      "cell_type": "code",
      "source": [
        "#Write a Pandasql query to calculate the average 'income' for each  'gender'?\n",
        "data={'Gender':[\"Male\",\"Female\"],\n",
        "      'income':[6500,9800]}\n",
        "df=pd.DataFrame(data)\n",
        "def run_query(query):\n",
        "  return sqldf(query,{'df':df})\n",
        "result=run_query(\"SELECT Gender ,AVG(income) FROM df GROUP BY Gender\")\n",
        "print(result)"
      ],
      "metadata": {
        "colab": {
          "base_uri": "https://localhost:8080/"
        },
        "id": "on0qWHuDC7yh",
        "outputId": "46e01065-5132-4eb6-b8cd-2ad2abcb555a"
      },
      "execution_count": null,
      "outputs": [
        {
          "output_type": "stream",
          "name": "stdout",
          "text": [
            "   Gender  AVG(income)\n",
            "0  Female       9800.0\n",
            "1    Male       6500.0\n"
          ]
        }
      ]
    },
    {
      "cell_type": "code",
      "source": [
        "# Write a Pandasql query to find the maximum 'age' in the dataset?\n",
        "data={'city':['New york','california','nairobi'],\n",
        "      'age':[10,20,30]}\n",
        "df=pd.DataFrame(data)\n",
        "def run_query(query):\n",
        "  return sqldf(query,{'df':df})\n",
        "result=run_query(\"SELECT age,MAX(age) FROM df\")\n",
        "print(result)"
      ],
      "metadata": {
        "colab": {
          "base_uri": "https://localhost:8080/"
        },
        "id": "fMHX6WxvF_Sl",
        "outputId": "444c9cf2-5358-423c-9611-bf6ce5fa8521"
      },
      "execution_count": null,
      "outputs": [
        {
          "output_type": "stream",
          "name": "stdout",
          "text": [
            "   age  MAX(age)\n",
            "0   30        30\n"
          ]
        }
      ]
    },
    {
      "cell_type": "code",
      "source": [
        " #Write a Pandasql query to calculate the total 'income' for each 'state'?\n",
        "data={'city':['New york','california','nairobi'],\n",
        "      'income':[[1000,2000,3000],[3450,6500,7653],[6789,3542,9807]]}\n",
        "df=pd.DataFrame(data)\n",
        "print(df)\n",
        "df_exploded=df.explode(\"income\")\n",
        " def run_query(query):\n",
        "     return sqldf(query,{'df':df_exploded})\n",
        "result=run_query(\"SELECT city,SUM(income) FROM df GROUP BY city\")\n",
        "print(result)\n"
      ],
      "metadata": {
        "colab": {
          "base_uri": "https://localhost:8080/"
        },
        "id": "auTxUxYqGn1w",
        "outputId": "3655e624-f8f8-499b-af4a-c7556ccbc643"
      },
      "execution_count": null,
      "outputs": [
        {
          "output_type": "stream",
          "name": "stdout",
          "text": [
            "         city              income\n",
            "0    New york  [1000, 2000, 3000]\n",
            "1  california  [3450, 6500, 7653]\n",
            "2     nairobi  [6789, 3542, 9807]\n",
            "         city  SUM(income)\n",
            "0    New york         6000\n",
            "1  california        17603\n",
            "2     nairobi        20138\n"
          ]
        }
      ]
    },
    {
      "cell_type": "code",
      "source": [
        " #Write a Pandasql query to find the number of individuals in each 'city'?\n",
        "data={\"city\":[\"New york\",\"california\",\"Nairobi\"],\n",
        "      \"individuals\":[[100,200,3000],[3450,6500,7653],[6789,3542,9807]]}\n",
        "df=pd.DataFrame(data)\n",
        "print(df)\n",
        "df_exploded=df.explode(\"individuals\")\n",
        "def run_query(query):\n",
        "    return sqldf(query,{'df':df_exploded})\n",
        "result=run_query(\"SELECT city,SUM(individuals) FROM df GROUP BY city\")\n",
        "print(result)"
      ],
      "metadata": {
        "id": "_p6kt-11H54o",
        "colab": {
          "base_uri": "https://localhost:8080/"
        },
        "outputId": "e48938af-bc30-4ab1-acf6-9a84a15d2bcb"
      },
      "execution_count": null,
      "outputs": [
        {
          "output_type": "stream",
          "name": "stdout",
          "text": [
            "         city         individuals\n",
            "0    New york    [100, 200, 3000]\n",
            "1  california  [3450, 6500, 7653]\n",
            "2     Nairobi  [6789, 3542, 9807]\n",
            "         city  SUM(individuals)\n",
            "0     Nairobi             20138\n",
            "1    New york              3300\n",
            "2  california             17603\n"
          ]
        }
      ]
    },
    {
      "cell_type": "code",
      "source": [
        "!pip install pandasql\n",
        "import pandas as pd\n",
        "from pandasql import sqldf\n",
        "\n",
        "data = {'city': ['New york', 'california', 'nairobi'],\n",
        "        'income': [[1000, 2000, 3000], [3450, 6500, 7653], [6789, 3542, 9807]]}\n",
        "\n",
        "df = pd.DataFrame(data)\n",
        "\n",
        "# Explode the 'income' column to create separate rows for each income value\n",
        "df_exploded = df.explode('income')\n",
        "\n",
        "def run_query(query):\n",
        "    return sqldf(query, {'df': df_exploded})\n",
        "\n",
        "result = run_query(\"SELECT city, SUM(income) FROM df GROUP BY city\")\n",
        "print(result)"
      ],
      "metadata": {
        "colab": {
          "base_uri": "https://localhost:8080/"
        },
        "id": "YnrUHUO6MmDU",
        "outputId": "a7bfa959-e04c-4537-9d63-7d0eb205ed09"
      },
      "execution_count": null,
      "outputs": [
        {
          "output_type": "stream",
          "name": "stdout",
          "text": [
            "Requirement already satisfied: pandasql in /usr/local/lib/python3.10/dist-packages (0.7.3)\n",
            "Requirement already satisfied: numpy in /usr/local/lib/python3.10/dist-packages (from pandasql) (1.25.2)\n",
            "Requirement already satisfied: pandas in /usr/local/lib/python3.10/dist-packages (from pandasql) (2.0.3)\n",
            "Requirement already satisfied: sqlalchemy in /usr/local/lib/python3.10/dist-packages (from pandasql) (2.0.31)\n",
            "Requirement already satisfied: python-dateutil>=2.8.2 in /usr/local/lib/python3.10/dist-packages (from pandas->pandasql) (2.8.2)\n",
            "Requirement already satisfied: pytz>=2020.1 in /usr/local/lib/python3.10/dist-packages (from pandas->pandasql) (2023.4)\n",
            "Requirement already satisfied: tzdata>=2022.1 in /usr/local/lib/python3.10/dist-packages (from pandas->pandasql) (2024.1)\n",
            "Requirement already satisfied: typing-extensions>=4.6.0 in /usr/local/lib/python3.10/dist-packages (from sqlalchemy->pandasql) (4.12.2)\n",
            "Requirement already satisfied: greenlet!=0.4.17 in /usr/local/lib/python3.10/dist-packages (from sqlalchemy->pandasql) (3.0.3)\n",
            "Requirement already satisfied: six>=1.5 in /usr/local/lib/python3.10/dist-packages (from python-dateutil>=2.8.2->pandas->pandasql) (1.16.0)\n",
            "         city  SUM(income)\n",
            "0    New york         6000\n",
            "1  california        17603\n",
            "2     nairobi        20138\n"
          ]
        }
      ]
    },
    {
      "cell_type": "code",
      "source": [
        " # Write a Pandasql query to find the number of individuals in each 'city'?\n",
        "\n",
        "data={'city':[\"Tokyo\",\"Berlin\",\"Oslo\"],\n",
        "      'individuals':[[100,200],[450,900],[200,300]]}\n",
        "df=pd.DataFrame(data)\n",
        "df_exploded=df.explode('individuals')\n",
        "def run_query(query):\n",
        "  return sqldf(query, {'df':df_exploded})\n",
        "result=run_query(\"SELECT individuals,sum(individuals) FROM df GROUP BY city\")\n",
        "print(result)\n"
      ],
      "metadata": {
        "colab": {
          "base_uri": "https://localhost:8080/"
        },
        "id": "NndPPX_zPkFr",
        "outputId": "a88256f7-e312-4d3c-f276-0daeeb558a3d"
      },
      "execution_count": null,
      "outputs": [
        {
          "output_type": "stream",
          "name": "stdout",
          "text": [
            "   individuals  sum(individuals)\n",
            "0          450              1350\n",
            "1          200               500\n",
            "2          100               300\n"
          ]
        }
      ]
    },
    {
      "cell_type": "code",
      "source": [
        "# Given two DataFrames, df1 and df2, each containing 'user_id' and 'email',\n",
        "\n",
        "# a Pandasql query to perform an inner join to combine the two  DataFrames based on the 'user_id' column.\n",
        "data={'user_id':[1,2,3,4],\n",
        "      'email':['purity@gmail.com','kativa@gmail.com','olesi@gmail.com','masrer@gmail.com']} # Modified to store emails as strings instead of lists\n",
        "df1=pd.DataFrame(data)\n",
        "df2=pd.DataFrame(data)\n",
        "def run_query(query):\n",
        "  return sqldf(query,{'df1':df1,'df2':df2})\n",
        "result=run_query(\"SELECT df1.user_id FROM df1 INNER JOIN df2 ON df1.user_id=df2.user_id\") # Corrected the SQL syntax for the join\n",
        "print(result)"
      ],
      "metadata": {
        "colab": {
          "base_uri": "https://localhost:8080/"
        },
        "id": "XaO-NCBFiafq",
        "outputId": "4bcf4462-07a8-4b95-e1c3-99232249dd31"
      },
      "execution_count": null,
      "outputs": [
        {
          "output_type": "stream",
          "name": "stdout",
          "text": [
            "   user_id\n",
            "0        1\n",
            "1        2\n",
            "2        3\n",
            "3        4\n"
          ]
        }
      ]
    },
    {
      "cell_type": "code",
      "source": [
        "import pandas as pd\n",
        "from pandasql import sqldf\n",
        "\n",
        "# Create sample DataFrames\n",
        "df1 = pd.DataFrame({'user_id': [1, 2, 3], 'name': ['Alice', 'Bob', 'Charlie']})\n",
        "df2 = pd.DataFrame({'user_id': [1, 2, 3], 'email': ['alice@example.com', 'charlie@example.com', 'bob@example.com']})\n",
        "\n",
        "# Pandasql query for inner join\n",
        "query = \"\"\"\n",
        "SELECT *\n",
        "FROM df1\n",
        "INNER JOIN df2 ON df1.user_id = df2.user_id;\n",
        "\"\"\"\n",
        "\n",
        "# Execute the query using pandasql\n",
        "result = sqldf(query, locals())\n",
        "\n",
        "# Print the result\n",
        "print(result)\n",
        "\n"
      ],
      "metadata": {
        "colab": {
          "base_uri": "https://localhost:8080/"
        },
        "id": "MwlIV1J4jETY",
        "outputId": "73df69f9-24d4-4bc5-bbda-a11409afd7ef"
      },
      "execution_count": 8,
      "outputs": [
        {
          "output_type": "stream",
          "name": "stdout",
          "text": [
            "   user_id     name  user_id                email\n",
            "0        1    Alice        1    alice@example.com\n",
            "1        2      Bob        2  charlie@example.com\n",
            "2        3  Charlie        3      bob@example.com\n"
          ]
        }
      ]
    },
    {
      "cell_type": "code",
      "source": [
        "# Create sample DataFrames\n",
        "df1 = pd.DataFrame({'user_id': [1, 2, 3], 'name': ['Alice', 'Bob', 'Charlie']})\n",
        "df2 = pd.DataFrame({'user_id': [1, 3, 4], 'email': ['alice@example.com', 'charlie@example.com', 'bob@example.com']})\n",
        "def run_query(query):\n",
        "   return sqldf(query, {'df1':df1 ,'df2':df2})\n",
        "result=run_query(\"SELECT df1.user_id FROM df1 INNER JOIN df2 ON df1.user_id=df2.user_id\")\n",
        "print(result)"
      ],
      "metadata": {
        "colab": {
          "base_uri": "https://localhost:8080/"
        },
        "id": "L5Z-JoyPjkNv",
        "outputId": "edb23f57-d018-4739-f87b-10ad841b166c"
      },
      "execution_count": null,
      "outputs": [
        {
          "output_type": "stream",
          "name": "stdout",
          "text": [
            "   user_id\n",
            "0        1\n",
            "1        3\n"
          ]
        }
      ]
    },
    {
      "cell_type": "code",
      "source": [
        "\n",
        "# Write a Pandasql query to find all individuals whose 'income' is greater  than the average income in their respective 'state'.\n",
        "import pandas as pd\n",
        "from pandasql import sqldf\n",
        "data={'individuals':['sam','peter','purity'],\n",
        "      \"income\":[5000,3000,10000],\n",
        "      \"state\":['Tokyo','berlin','oslo'],\n",
        "      \"average_income_per_state\":[3500,4000,7000]}\n",
        "\n",
        "df=pd.DataFrame(data)\n",
        "def run_query(query):\n",
        "  return sqldf(query,{'df':df})\n",
        "top_earners=run_query(\"\"\"\n",
        "SELECT *\n",
        "FROM df\n",
        "WHERE income > average_income_per_state\n",
        "GROUP BY state;\n",
        "\"\"\")\n",
        "print(top_earners)\n"
      ],
      "metadata": {
        "colab": {
          "base_uri": "https://localhost:8080/"
        },
        "id": "EWf_HQvhKj4r",
        "outputId": "2113312e-56e8-479f-d467-1e82d07cfa26"
      },
      "execution_count": null,
      "outputs": [
        {
          "output_type": "stream",
          "name": "stdout",
          "text": [
            "  individuals  income  state  average_income_per_state\n",
            "0         sam    5000  Tokyo                      3500\n",
            "1      purity   10000   oslo                      7000\n"
          ]
        }
      ]
    },
    {
      "cell_type": "code",
      "source": [
        "import pandas as pd\n",
        "import numpy as np\n",
        "\n",
        "# Sample data with some income outliers in each state\n",
        "data = {'id': [1, 2, 3, 4, 5, 6, 7, 8, 9],\n",
        "        'name': ['Alice', 'Bob', 'Charlie', 'David', 'Eve', 'Frank', 'Grace', 'Henry', 'Ida'],\n",
        "        'state': ['CA', 'CA', 'NY', 'NY', 'TX', 'TX', 'CA', 'NY', 'TX'],\n",
        "        'income': [100000, 75000, 120000, 80000, 90000, 150000, 110000, 95000, 130000],\n",
        "        'state_average_income':[50000,60000,100000,50000,200000,100000,150000,20000,110000]}\n",
        "df = pd.DataFrame(data)\n",
        "print(df)\n",
        "from pandasql import sqldf\n",
        "def run_query(query):\n",
        "  return sqldf(query,{'df':df})\n",
        "\n",
        "# Filter individuals with income above their state average\n",
        "above_avg_income = run_query(\"\"\"\n",
        "SELECT name, state, income\n",
        "FROM df\n",
        "WHERE income > state_average_income\n",
        "GROUP BY state;\n",
        "\"\"\")\n",
        "\n",
        "print(above_avg_income)\n"
      ],
      "metadata": {
        "colab": {
          "base_uri": "https://localhost:8080/"
        },
        "id": "UIbusVuFQatJ",
        "outputId": "5f26318e-5d2e-4c45-b30a-d2a1b8ff42ae"
      },
      "execution_count": null,
      "outputs": [
        {
          "output_type": "stream",
          "name": "stdout",
          "text": [
            "   id     name state  income  state_average_income\n",
            "0   1    Alice    CA  100000                 50000\n",
            "1   2      Bob    CA   75000                 60000\n",
            "2   3  Charlie    NY  120000                100000\n",
            "3   4    David    NY   80000                 50000\n",
            "4   5      Eve    TX   90000                200000\n",
            "5   6    Frank    TX  150000                100000\n",
            "6   7    Grace    CA  110000                150000\n",
            "7   8    Henry    NY   95000                 20000\n",
            "8   9      Ida    TX  130000                110000\n",
            "      name state  income\n",
            "0    Alice    CA  100000\n",
            "1  Charlie    NY  120000\n",
            "2    Frank    TX  150000\n"
          ]
        }
      ]
    },
    {
      "cell_type": "code",
      "source": [
        "# Write a Pandasql query to find the individuals with the top 5 highest  'income' values in the DataFrame.\n",
        "data={'individuals':['miley','peter','kanya','purity','tom'],\n",
        "      'income':[3000,1500,2100,7000,10]}\n",
        "df=pd.DataFrame(data)\n",
        "def run_query(query):\n",
        "\n",
        "  return sqldf(query,{'df':df})\n",
        "top_earners =run_query(\"\"\"\n",
        "SELECT *\n",
        "FROM df\n",
        "ORDER BY income DESC\n",
        "LIMIT 5;\n",
        "\"\"\")\n",
        "\n",
        "print(top_earners)"
      ],
      "metadata": {
        "colab": {
          "base_uri": "https://localhost:8080/"
        },
        "id": "e0e7-A1dS6G6",
        "outputId": "2a8b84c4-6ee8-4116-e21c-26ba8f6d1268"
      },
      "execution_count": null,
      "outputs": [
        {
          "output_type": "stream",
          "name": "stdout",
          "text": [
            "  individuals  income\n",
            "0      purity    7000\n",
            "1       miley    3000\n",
            "2       kanya    2100\n",
            "3       peter    1500\n",
            "4         tom      10\n"
          ]
        }
      ]
    },
    {
      "cell_type": "code",
      "source": [
        " # Write a Pandasql query to create a new column 'age_group' with values  'Young', 'Middle-aged', and 'Senior' based on the 'age' column.\n",
        " data={'individuals':['miley','purity','tom','kim'],\n",
        "       'age':[30,20,15,2]}\n",
        " df=pd.DataFrame(data)\n",
        " def run_query(query):\n",
        "   return sqldf(query, {'df':df})\n",
        "age_group=run_query(\"\"\"\n",
        "SELECT *,\n",
        "       CASE\n",
        "           WHEN age BETWEEN 0 AND 15 THEN 'young'\n",
        "           WHEN age BETWEEN 17 AND 20 THEN 'middle-aged'\n",
        "           ELSE 'senior'\n",
        "           END AS age_group\n",
        "FROM df\n",
        "\"\"\")\n",
        "\n",
        "print(age_group)"
      ],
      "metadata": {
        "colab": {
          "base_uri": "https://localhost:8080/"
        },
        "id": "KlQAmN7KYH-u",
        "outputId": "7f801af8-f63d-4909-930e-9505743c54cc"
      },
      "execution_count": null,
      "outputs": [
        {
          "output_type": "stream",
          "name": "stdout",
          "text": [
            "  individuals  age    age_group\n",
            "0       miley   30       senior\n",
            "1      purity   20  middle-aged\n",
            "2         tom   15        young\n",
            "3         kim    2        young\n"
          ]
        }
      ]
    },
    {
      "cell_type": "code",
      "source": [
        "-import pandas as pd\n",
        "\n",
        "# Create the DataFrame with separate columns for names and income\n",
        "data = {'name': ['miley', 'peter', 'kanya', 'purity', 'tom'],\n",
        "        'income': [3000, 1500, 2100, 7000, 10]}\n",
        "df = pd.DataFrame(data)\n",
        "\n",
        "def run_query(query):\n",
        "  # No need to return the query itself, just the result\n",
        "  return sqldf(query, {'df':df})  # Use locals() to access variables in the function\n",
        "\n",
        "# Pandasql query to find top 5 earners\n",
        "top_earners = run_query(\"\"\"\n",
        "SELECT *\n",
        "FROM df\n",
        "ORDER BY income DESC\n",
        "LIMIT 5;\n",
        "\"\"\")\n",
        "\n",
        "print(top_earners)\n"
      ],
      "metadata": {
        "colab": {
          "base_uri": "https://localhost:8080/"
        },
        "id": "IPixlSyPY4kW",
        "outputId": "649c0280-6285-4b2a-cf48-a8b97ea769a2"
      },
      "execution_count": null,
      "outputs": [
        {
          "output_type": "stream",
          "name": "stdout",
          "text": [
            "     name  income\n",
            "0  purity    7000\n",
            "1   miley    3000\n",
            "2   kanya    2100\n",
            "3   peter    1500\n",
            "4     tom      10\n"
          ]
        }
      ]
    },
    {
      "cell_type": "code",
      "source": [
        "import pandas as pd\n",
        "from pandasql import sqldf\n",
        "\n",
        "# Create the DataFrame with separate columns for names and income\n",
        "data = {'name': ['miley', 'peter', 'kanya', 'purity', 'tom'],\n",
        "        'income': [3000, 1500, 2100, 7000, 10]}\n",
        "df = pd.DataFrame(data)\n",
        "\n",
        "def run_query(query):\n",
        "  # Pass the DataFrame 'df' to the globals() environment\n",
        "  return sqldf(query, globals())\n",
        "\n",
        "# Pandasql query to find top 5 earners\n",
        "top_earners = run_query(\"\"\"\n",
        "SELECT *\n",
        "FROM df\n",
        "ORDER BY income DESC\n",
        "LIMIT 5;\n",
        "\"\"\")\n",
        "\n",
        "print(top_earners)"
      ],
      "metadata": {
        "colab": {
          "base_uri": "https://localhost:8080/"
        },
        "id": "h8acOUChZGg5",
        "outputId": "a24b7131-2b16-4d1d-d815-38b138273192"
      },
      "execution_count": null,
      "outputs": [
        {
          "output_type": "stream",
          "name": "stdout",
          "text": [
            "     name  income\n",
            "0  purity    7000\n",
            "1   miley    3000\n",
            "2   kanya    2100\n",
            "3   peter    1500\n",
            "4     tom      10\n"
          ]
        }
      ]
    },
    {
      "cell_type": "code",
      "source": [
        "# Write a Pandasql query to create a new column 'age_group' with values  'Young', 'Middle-aged', and 'Senior' based on the 'age' column.\n",
        "data={'individuals':['miley','purity','tom','kim'],\n",
        "      'age':[30,20,15,2]}\n",
        "df=pd.DataFrame(data)\n",
        "def run_query(query):\n",
        "  return sqldf(query, {'df':df})\n",
        "age_group=run_query(\"\"\"\n",
        "SELECT *,\n",
        "       CASE\n",
        "           WHEN age BETWEEN 13 AND 25 THEN 'Young'\n",
        "           WHEN age BETWEEN 26 AND 50 THEN 'Middle-aged'\n",
        "           ELSE 'Senior'\n",
        "       END as age_group\n",
        "FROM df\n",
        "\"\"\") # Use a CASE statement to categorize age groups\n",
        "print(age_group)"
      ],
      "metadata": {
        "colab": {
          "base_uri": "https://localhost:8080/"
        },
        "id": "9ZWDRJ27bvL_",
        "outputId": "7b0acd78-7cb7-4c70-a035-3924429b482f"
      },
      "execution_count": null,
      "outputs": [
        {
          "output_type": "stream",
          "name": "stdout",
          "text": [
            "  individuals  age    age_group\n",
            "0       miley   30  Middle-aged\n",
            "1      purity   20        Young\n",
            "2         tom   15        Young\n",
            "3         kim    2       Senior\n"
          ]
        }
      ]
    },
    {
      "cell_type": "code",
      "source": [
        "\n",
        " # Write a Pandasql query to update the 'income' of all individuals in 'New  York' to be 10% higher.\n",
        " data={'New_york_income':[50000],'California_income':[30000],'Nairobi_income':[20000]}\n",
        " df=pd.DataFrame(data)\n",
        " print(df)\n",
        " def run_query(query):\n",
        "   return sqldf(query,{'df':df})\n",
        " result=run_query(\"\"\"\n",
        " SELECT *, New_york_income * 1.10 AS Increased_NY_Income\n",
        " FROM df;\n",
        " \"\"\")\n",
        " print(result)\n"
      ],
      "metadata": {
        "colab": {
          "base_uri": "https://localhost:8080/"
        },
        "id": "gU2PohBIehA4",
        "outputId": "5034af78-44f9-484d-a071-ba151e34bd12"
      },
      "execution_count": 10,
      "outputs": [
        {
          "output_type": "stream",
          "name": "stdout",
          "text": [
            "   New_york_income  California_income  Nairobi_income\n",
            "0            50000              30000           20000\n",
            "   New_york_income  California_income  Nairobi_income  Increased_NY_Income\n",
            "0            50000              30000           20000              55000.0\n"
          ]
        }
      ]
    },
    {
      "cell_type": "code",
      "source": [
        "# How can you replace missing values in the 'bonus' column with zeros  using Pandasql?\n",
        "data={'bonus':[1000,3000,4550,567,9000]}\n",
        "df=pd.DataFrame(data)\n",
        "print(df)\n",
        "def run_query(query):\n",
        "  return sqldf(query,{'df':df})\n",
        "result=\n",
        "print(result)"
      ],
      "metadata": {
        "colab": {
          "base_uri": "https://localhost:8080/"
        },
        "id": "aEU4ttqykEoG",
        "outputId": "9d06c63c-7547-45dd-9437-f0afa2ea8559"
      },
      "execution_count": null,
      "outputs": [
        {
          "output_type": "stream",
          "name": "stdout",
          "text": [
            "   bonus\n",
            "0   1000\n",
            "1   3000\n",
            "2   4550\n",
            "3    567\n",
            "4   9000\n",
            "   bonus  COALESCE(bonus,0)\n",
            "0   1000               1000\n",
            "1   3000               3000\n",
            "2   4550               4550\n",
            "3    567                567\n",
            "4   9000               9000\n"
          ]
        }
      ]
    },
    {
      "cell_type": "code",
      "source": [
        "import pandas as pd\n",
        "import numpy as np\n",
        "\n",
        "data = {'name': ['Alice', 'Bob', 'Charlie', 'David'],\n",
        "        'income': [100000, 75000, 120000, 80000],\n",
        "        'bonus': [5000, np.nan, 7000, None]}  # Include different missing value representations\n",
        "\n",
        "df = pd.DataFrame(data)\n",
        "print(df)\n",
        "def replace_missing_with_zero(df):\n",
        "  \"\"\"\n",
        "  Replaces missing values (NaN) in the 'bonus' column with zeros.\n",
        "  \"\"\"\n",
        "  df['bonus'] = df['bonus'].fillna(0)\n",
        "  return df\n",
        "\n",
        "# Apply the function to a copy of the DataFrame (avoid modifying the original)\n",
        "df_modified = replace_missing_with_zero(df.copy())\n",
        "\n",
        "# View the modified DataFrame\n",
        "print(df_modified)\n"
      ],
      "metadata": {
        "colab": {
          "base_uri": "https://localhost:8080/"
        },
        "id": "Rehw4NLTnVmg",
        "outputId": "b8c3109d-61da-477d-9bc0-52298d57819c"
      },
      "execution_count": null,
      "outputs": [
        {
          "output_type": "stream",
          "name": "stdout",
          "text": [
            "      name  income   bonus\n",
            "0    Alice  100000  5000.0\n",
            "1      Bob   75000     NaN\n",
            "2  Charlie  120000  7000.0\n",
            "3    David   80000     NaN\n",
            "      name  income   bonus\n",
            "0    Alice  100000  5000.0\n",
            "1      Bob   75000     0.0\n",
            "2  Charlie  120000  7000.0\n",
            "3    David   80000     0.0\n"
          ]
        }
      ]
    },
    {
      "cell_type": "code",
      "source": [
        "#How can you remove rows with missing values in any column from the DataFrame?\n",
        "import numpy as np\n",
        "data={'name':['Alice','Bob','Charlie','David'],\n",
        "      'income':[100000,75000,120000,80000],\n",
        "      'bonus':[5000,np.nan,None,None]}\n",
        "df=pd.DataFrame(data)\n",
        "print(df)\n",
        "df_new=df.dropna(axis=0)\n",
        "print(df_new)"
      ],
      "metadata": {
        "colab": {
          "base_uri": "https://localhost:8080/"
        },
        "id": "s86g1bz8thD8",
        "outputId": "ddcac8e1-d6ba-4066-9527-4341676636c7"
      },
      "execution_count": null,
      "outputs": [
        {
          "output_type": "stream",
          "name": "stdout",
          "text": [
            "      name  income   bonus\n",
            "0    Alice  100000  5000.0\n",
            "1      Bob   75000     NaN\n",
            "2  Charlie  120000     NaN\n",
            "3    David   80000     NaN\n",
            "    name  income   bonus\n",
            "0  Alice  100000  5000.0\n"
          ]
        }
      ]
    },
    {
      "cell_type": "code",
      "source": [
        "# How can you replace missing values in the 'bonus' column with zeros usingPandasql?\n",
        "data={'name':['Alice','Bob','Charlie','David'],\n",
        "      'income':[100000,75000,120000,80000],\n",
        "      'bonus':[5000,np.nan,None,None]}\n",
        "df=pd.DataFrame(data)\n",
        "print(df)\n",
        "df_new=df.fillna(0)\n",
        "print(df_new)"
      ],
      "metadata": {
        "colab": {
          "base_uri": "https://localhost:8080/"
        },
        "id": "cBRXpUHdwASP",
        "outputId": "c16ef6b2-2b13-4d68-febd-b60d67ccaaa9"
      },
      "execution_count": null,
      "outputs": [
        {
          "output_type": "stream",
          "name": "stdout",
          "text": [
            "      name  income   bonus\n",
            "0    Alice  100000  5000.0\n",
            "1      Bob   75000     NaN\n",
            "2  Charlie  120000     NaN\n",
            "3    David   80000     NaN\n",
            "      name  income   bonus\n",
            "0    Alice  100000  5000.0\n",
            "1      Bob   75000     0.0\n",
            "2  Charlie  120000     0.0\n",
            "3    David   80000     0.0\n"
          ]
        }
      ]
    },
    {
      "cell_type": "code",
      "source": [
        "df=pd.read_csv(r'/content/toy_dataset.csv')\n",
        "print(df)\n",
        "df.head(15)\n"
      ],
      "metadata": {
        "colab": {
          "base_uri": "https://localhost:8080/",
          "height": 762
        },
        "id": "G89t2PZ48RTw",
        "outputId": "6094f268-c5af-463c-f2f6-1af6620f8a4c"
      },
      "execution_count": null,
      "outputs": [
        {
          "output_type": "stream",
          "name": "stdout",
          "text": [
            "        Number    City  Gender  Age    Income Illness\n",
            "0            1  Dallas    Male   41   40367.0      No\n",
            "1            2  Dallas    Male   54   45084.0      No\n",
            "2            3  Dallas    Male   42   52483.0      No\n",
            "3            4  Dallas    Male   40   40941.0      No\n",
            "4            5  Dallas    Male   46   50289.0      No\n",
            "...        ...     ...     ...  ...       ...     ...\n",
            "149995  149996  Austin    Male   48   93669.0      No\n",
            "149996  149997  Austin    Male   25   96748.0      No\n",
            "149997  149998  Austin    Male   26  111885.0      No\n",
            "149998  149999  Austin    Male   25  111878.0      No\n",
            "149999  150000  Austin  Female   37   87251.0      No\n",
            "\n",
            "[150000 rows x 6 columns]\n"
          ]
        },
        {
          "output_type": "execute_result",
          "data": {
            "text/plain": [
              "    Number    City  Gender  Age   Income Illness\n",
              "0        1  Dallas    Male   41  40367.0      No\n",
              "1        2  Dallas    Male   54  45084.0      No\n",
              "2        3  Dallas    Male   42  52483.0      No\n",
              "3        4  Dallas    Male   40  40941.0      No\n",
              "4        5  Dallas    Male   46  50289.0      No\n",
              "5        6  Dallas  Female   36  50786.0      No\n",
              "6        7  Dallas  Female   32  33155.0      No\n",
              "7        8  Dallas    Male   39  30914.0      No\n",
              "8        9  Dallas    Male   51  68667.0      No\n",
              "9       10  Dallas  Female   30  50082.0      No\n",
              "10      11  Dallas  Female   48  41524.0     Yes\n",
              "11      12  Dallas    Male   47  54777.0      No\n",
              "12      13  Dallas    Male   46  62749.0      No\n",
              "13      14  Dallas  Female   42  50894.0      No\n",
              "14      15  Dallas  Female   61  38429.0      No"
            ],
            "text/html": [
              "\n",
              "  <div id=\"df-51cd647d-2138-4014-bdab-05406232ed73\" class=\"colab-df-container\">\n",
              "    <div>\n",
              "<style scoped>\n",
              "    .dataframe tbody tr th:only-of-type {\n",
              "        vertical-align: middle;\n",
              "    }\n",
              "\n",
              "    .dataframe tbody tr th {\n",
              "        vertical-align: top;\n",
              "    }\n",
              "\n",
              "    .dataframe thead th {\n",
              "        text-align: right;\n",
              "    }\n",
              "</style>\n",
              "<table border=\"1\" class=\"dataframe\">\n",
              "  <thead>\n",
              "    <tr style=\"text-align: right;\">\n",
              "      <th></th>\n",
              "      <th>Number</th>\n",
              "      <th>City</th>\n",
              "      <th>Gender</th>\n",
              "      <th>Age</th>\n",
              "      <th>Income</th>\n",
              "      <th>Illness</th>\n",
              "    </tr>\n",
              "  </thead>\n",
              "  <tbody>\n",
              "    <tr>\n",
              "      <th>0</th>\n",
              "      <td>1</td>\n",
              "      <td>Dallas</td>\n",
              "      <td>Male</td>\n",
              "      <td>41</td>\n",
              "      <td>40367.0</td>\n",
              "      <td>No</td>\n",
              "    </tr>\n",
              "    <tr>\n",
              "      <th>1</th>\n",
              "      <td>2</td>\n",
              "      <td>Dallas</td>\n",
              "      <td>Male</td>\n",
              "      <td>54</td>\n",
              "      <td>45084.0</td>\n",
              "      <td>No</td>\n",
              "    </tr>\n",
              "    <tr>\n",
              "      <th>2</th>\n",
              "      <td>3</td>\n",
              "      <td>Dallas</td>\n",
              "      <td>Male</td>\n",
              "      <td>42</td>\n",
              "      <td>52483.0</td>\n",
              "      <td>No</td>\n",
              "    </tr>\n",
              "    <tr>\n",
              "      <th>3</th>\n",
              "      <td>4</td>\n",
              "      <td>Dallas</td>\n",
              "      <td>Male</td>\n",
              "      <td>40</td>\n",
              "      <td>40941.0</td>\n",
              "      <td>No</td>\n",
              "    </tr>\n",
              "    <tr>\n",
              "      <th>4</th>\n",
              "      <td>5</td>\n",
              "      <td>Dallas</td>\n",
              "      <td>Male</td>\n",
              "      <td>46</td>\n",
              "      <td>50289.0</td>\n",
              "      <td>No</td>\n",
              "    </tr>\n",
              "    <tr>\n",
              "      <th>5</th>\n",
              "      <td>6</td>\n",
              "      <td>Dallas</td>\n",
              "      <td>Female</td>\n",
              "      <td>36</td>\n",
              "      <td>50786.0</td>\n",
              "      <td>No</td>\n",
              "    </tr>\n",
              "    <tr>\n",
              "      <th>6</th>\n",
              "      <td>7</td>\n",
              "      <td>Dallas</td>\n",
              "      <td>Female</td>\n",
              "      <td>32</td>\n",
              "      <td>33155.0</td>\n",
              "      <td>No</td>\n",
              "    </tr>\n",
              "    <tr>\n",
              "      <th>7</th>\n",
              "      <td>8</td>\n",
              "      <td>Dallas</td>\n",
              "      <td>Male</td>\n",
              "      <td>39</td>\n",
              "      <td>30914.0</td>\n",
              "      <td>No</td>\n",
              "    </tr>\n",
              "    <tr>\n",
              "      <th>8</th>\n",
              "      <td>9</td>\n",
              "      <td>Dallas</td>\n",
              "      <td>Male</td>\n",
              "      <td>51</td>\n",
              "      <td>68667.0</td>\n",
              "      <td>No</td>\n",
              "    </tr>\n",
              "    <tr>\n",
              "      <th>9</th>\n",
              "      <td>10</td>\n",
              "      <td>Dallas</td>\n",
              "      <td>Female</td>\n",
              "      <td>30</td>\n",
              "      <td>50082.0</td>\n",
              "      <td>No</td>\n",
              "    </tr>\n",
              "    <tr>\n",
              "      <th>10</th>\n",
              "      <td>11</td>\n",
              "      <td>Dallas</td>\n",
              "      <td>Female</td>\n",
              "      <td>48</td>\n",
              "      <td>41524.0</td>\n",
              "      <td>Yes</td>\n",
              "    </tr>\n",
              "    <tr>\n",
              "      <th>11</th>\n",
              "      <td>12</td>\n",
              "      <td>Dallas</td>\n",
              "      <td>Male</td>\n",
              "      <td>47</td>\n",
              "      <td>54777.0</td>\n",
              "      <td>No</td>\n",
              "    </tr>\n",
              "    <tr>\n",
              "      <th>12</th>\n",
              "      <td>13</td>\n",
              "      <td>Dallas</td>\n",
              "      <td>Male</td>\n",
              "      <td>46</td>\n",
              "      <td>62749.0</td>\n",
              "      <td>No</td>\n",
              "    </tr>\n",
              "    <tr>\n",
              "      <th>13</th>\n",
              "      <td>14</td>\n",
              "      <td>Dallas</td>\n",
              "      <td>Female</td>\n",
              "      <td>42</td>\n",
              "      <td>50894.0</td>\n",
              "      <td>No</td>\n",
              "    </tr>\n",
              "    <tr>\n",
              "      <th>14</th>\n",
              "      <td>15</td>\n",
              "      <td>Dallas</td>\n",
              "      <td>Female</td>\n",
              "      <td>61</td>\n",
              "      <td>38429.0</td>\n",
              "      <td>No</td>\n",
              "    </tr>\n",
              "  </tbody>\n",
              "</table>\n",
              "</div>\n",
              "    <div class=\"colab-df-buttons\">\n",
              "\n",
              "  <div class=\"colab-df-container\">\n",
              "    <button class=\"colab-df-convert\" onclick=\"convertToInteractive('df-51cd647d-2138-4014-bdab-05406232ed73')\"\n",
              "            title=\"Convert this dataframe to an interactive table.\"\n",
              "            style=\"display:none;\">\n",
              "\n",
              "  <svg xmlns=\"http://www.w3.org/2000/svg\" height=\"24px\" viewBox=\"0 -960 960 960\">\n",
              "    <path d=\"M120-120v-720h720v720H120Zm60-500h600v-160H180v160Zm220 220h160v-160H400v160Zm0 220h160v-160H400v160ZM180-400h160v-160H180v160Zm440 0h160v-160H620v160ZM180-180h160v-160H180v160Zm440 0h160v-160H620v160Z\"/>\n",
              "  </svg>\n",
              "    </button>\n",
              "\n",
              "  <style>\n",
              "    .colab-df-container {\n",
              "      display:flex;\n",
              "      gap: 12px;\n",
              "    }\n",
              "\n",
              "    .colab-df-convert {\n",
              "      background-color: #E8F0FE;\n",
              "      border: none;\n",
              "      border-radius: 50%;\n",
              "      cursor: pointer;\n",
              "      display: none;\n",
              "      fill: #1967D2;\n",
              "      height: 32px;\n",
              "      padding: 0 0 0 0;\n",
              "      width: 32px;\n",
              "    }\n",
              "\n",
              "    .colab-df-convert:hover {\n",
              "      background-color: #E2EBFA;\n",
              "      box-shadow: 0px 1px 2px rgba(60, 64, 67, 0.3), 0px 1px 3px 1px rgba(60, 64, 67, 0.15);\n",
              "      fill: #174EA6;\n",
              "    }\n",
              "\n",
              "    .colab-df-buttons div {\n",
              "      margin-bottom: 4px;\n",
              "    }\n",
              "\n",
              "    [theme=dark] .colab-df-convert {\n",
              "      background-color: #3B4455;\n",
              "      fill: #D2E3FC;\n",
              "    }\n",
              "\n",
              "    [theme=dark] .colab-df-convert:hover {\n",
              "      background-color: #434B5C;\n",
              "      box-shadow: 0px 1px 3px 1px rgba(0, 0, 0, 0.15);\n",
              "      filter: drop-shadow(0px 1px 2px rgba(0, 0, 0, 0.3));\n",
              "      fill: #FFFFFF;\n",
              "    }\n",
              "  </style>\n",
              "\n",
              "    <script>\n",
              "      const buttonEl =\n",
              "        document.querySelector('#df-51cd647d-2138-4014-bdab-05406232ed73 button.colab-df-convert');\n",
              "      buttonEl.style.display =\n",
              "        google.colab.kernel.accessAllowed ? 'block' : 'none';\n",
              "\n",
              "      async function convertToInteractive(key) {\n",
              "        const element = document.querySelector('#df-51cd647d-2138-4014-bdab-05406232ed73');\n",
              "        const dataTable =\n",
              "          await google.colab.kernel.invokeFunction('convertToInteractive',\n",
              "                                                    [key], {});\n",
              "        if (!dataTable) return;\n",
              "\n",
              "        const docLinkHtml = 'Like what you see? Visit the ' +\n",
              "          '<a target=\"_blank\" href=https://colab.research.google.com/notebooks/data_table.ipynb>data table notebook</a>'\n",
              "          + ' to learn more about interactive tables.';\n",
              "        element.innerHTML = '';\n",
              "        dataTable['output_type'] = 'display_data';\n",
              "        await google.colab.output.renderOutput(dataTable, element);\n",
              "        const docLink = document.createElement('div');\n",
              "        docLink.innerHTML = docLinkHtml;\n",
              "        element.appendChild(docLink);\n",
              "      }\n",
              "    </script>\n",
              "  </div>\n",
              "\n",
              "\n",
              "<div id=\"df-c096f7e3-ece4-41e7-8b51-54d560fa1948\">\n",
              "  <button class=\"colab-df-quickchart\" onclick=\"quickchart('df-c096f7e3-ece4-41e7-8b51-54d560fa1948')\"\n",
              "            title=\"Suggest charts\"\n",
              "            style=\"display:none;\">\n",
              "\n",
              "<svg xmlns=\"http://www.w3.org/2000/svg\" height=\"24px\"viewBox=\"0 0 24 24\"\n",
              "     width=\"24px\">\n",
              "    <g>\n",
              "        <path d=\"M19 3H5c-1.1 0-2 .9-2 2v14c0 1.1.9 2 2 2h14c1.1 0 2-.9 2-2V5c0-1.1-.9-2-2-2zM9 17H7v-7h2v7zm4 0h-2V7h2v10zm4 0h-2v-4h2v4z\"/>\n",
              "    </g>\n",
              "</svg>\n",
              "  </button>\n",
              "\n",
              "<style>\n",
              "  .colab-df-quickchart {\n",
              "      --bg-color: #E8F0FE;\n",
              "      --fill-color: #1967D2;\n",
              "      --hover-bg-color: #E2EBFA;\n",
              "      --hover-fill-color: #174EA6;\n",
              "      --disabled-fill-color: #AAA;\n",
              "      --disabled-bg-color: #DDD;\n",
              "  }\n",
              "\n",
              "  [theme=dark] .colab-df-quickchart {\n",
              "      --bg-color: #3B4455;\n",
              "      --fill-color: #D2E3FC;\n",
              "      --hover-bg-color: #434B5C;\n",
              "      --hover-fill-color: #FFFFFF;\n",
              "      --disabled-bg-color: #3B4455;\n",
              "      --disabled-fill-color: #666;\n",
              "  }\n",
              "\n",
              "  .colab-df-quickchart {\n",
              "    background-color: var(--bg-color);\n",
              "    border: none;\n",
              "    border-radius: 50%;\n",
              "    cursor: pointer;\n",
              "    display: none;\n",
              "    fill: var(--fill-color);\n",
              "    height: 32px;\n",
              "    padding: 0;\n",
              "    width: 32px;\n",
              "  }\n",
              "\n",
              "  .colab-df-quickchart:hover {\n",
              "    background-color: var(--hover-bg-color);\n",
              "    box-shadow: 0 1px 2px rgba(60, 64, 67, 0.3), 0 1px 3px 1px rgba(60, 64, 67, 0.15);\n",
              "    fill: var(--button-hover-fill-color);\n",
              "  }\n",
              "\n",
              "  .colab-df-quickchart-complete:disabled,\n",
              "  .colab-df-quickchart-complete:disabled:hover {\n",
              "    background-color: var(--disabled-bg-color);\n",
              "    fill: var(--disabled-fill-color);\n",
              "    box-shadow: none;\n",
              "  }\n",
              "\n",
              "  .colab-df-spinner {\n",
              "    border: 2px solid var(--fill-color);\n",
              "    border-color: transparent;\n",
              "    border-bottom-color: var(--fill-color);\n",
              "    animation:\n",
              "      spin 1s steps(1) infinite;\n",
              "  }\n",
              "\n",
              "  @keyframes spin {\n",
              "    0% {\n",
              "      border-color: transparent;\n",
              "      border-bottom-color: var(--fill-color);\n",
              "      border-left-color: var(--fill-color);\n",
              "    }\n",
              "    20% {\n",
              "      border-color: transparent;\n",
              "      border-left-color: var(--fill-color);\n",
              "      border-top-color: var(--fill-color);\n",
              "    }\n",
              "    30% {\n",
              "      border-color: transparent;\n",
              "      border-left-color: var(--fill-color);\n",
              "      border-top-color: var(--fill-color);\n",
              "      border-right-color: var(--fill-color);\n",
              "    }\n",
              "    40% {\n",
              "      border-color: transparent;\n",
              "      border-right-color: var(--fill-color);\n",
              "      border-top-color: var(--fill-color);\n",
              "    }\n",
              "    60% {\n",
              "      border-color: transparent;\n",
              "      border-right-color: var(--fill-color);\n",
              "    }\n",
              "    80% {\n",
              "      border-color: transparent;\n",
              "      border-right-color: var(--fill-color);\n",
              "      border-bottom-color: var(--fill-color);\n",
              "    }\n",
              "    90% {\n",
              "      border-color: transparent;\n",
              "      border-bottom-color: var(--fill-color);\n",
              "    }\n",
              "  }\n",
              "</style>\n",
              "\n",
              "  <script>\n",
              "    async function quickchart(key) {\n",
              "      const quickchartButtonEl =\n",
              "        document.querySelector('#' + key + ' button');\n",
              "      quickchartButtonEl.disabled = true;  // To prevent multiple clicks.\n",
              "      quickchartButtonEl.classList.add('colab-df-spinner');\n",
              "      try {\n",
              "        const charts = await google.colab.kernel.invokeFunction(\n",
              "            'suggestCharts', [key], {});\n",
              "      } catch (error) {\n",
              "        console.error('Error during call to suggestCharts:', error);\n",
              "      }\n",
              "      quickchartButtonEl.classList.remove('colab-df-spinner');\n",
              "      quickchartButtonEl.classList.add('colab-df-quickchart-complete');\n",
              "    }\n",
              "    (() => {\n",
              "      let quickchartButtonEl =\n",
              "        document.querySelector('#df-c096f7e3-ece4-41e7-8b51-54d560fa1948 button');\n",
              "      quickchartButtonEl.style.display =\n",
              "        google.colab.kernel.accessAllowed ? 'block' : 'none';\n",
              "    })();\n",
              "  </script>\n",
              "</div>\n",
              "\n",
              "    </div>\n",
              "  </div>\n"
            ],
            "application/vnd.google.colaboratory.intrinsic+json": {
              "type": "dataframe",
              "variable_name": "df"
            }
          },
          "metadata": {},
          "execution_count": 6
        }
      ]
    },
    {
      "cell_type": "code",
      "source": [
        "df.tail()\n",
        "def run_query(query):\n",
        "  return sqldf(query,{'df':df})\n",
        "result=run_query(\"SELECT City,Gender,Age FROM df\")  #do not place a comma before FROM\n",
        "print(result)"
      ],
      "metadata": {
        "colab": {
          "base_uri": "https://localhost:8080/"
        },
        "id": "Jx7ocHj58mZI",
        "outputId": "c7cae82a-57f8-4de9-8835-445a5ada7845"
      },
      "execution_count": null,
      "outputs": [
        {
          "output_type": "stream",
          "name": "stdout",
          "text": [
            "          City  Gender  Age\n",
            "0       Dallas    Male   41\n",
            "1       Dallas    Male   54\n",
            "2       Dallas    Male   42\n",
            "3       Dallas    Male   40\n",
            "4       Dallas    Male   46\n",
            "...        ...     ...  ...\n",
            "149995  Austin    Male   48\n",
            "149996  Austin    Male   25\n",
            "149997  Austin    Male   26\n",
            "149998  Austin    Male   25\n",
            "149999  Austin  Female   37\n",
            "\n",
            "[150000 rows x 3 columns]\n"
          ]
        }
      ]
    },
    {
      "cell_type": "code",
      "source": [
        "#REMOVING DUPLICATE VALUES\n",
        "df.tail()\n",
        "def run_query(query):\n",
        "  return sqldf(query,{'df':df})\n",
        "\n",
        "df_new=run_query(\"SELECT DISTINCT Age FROM df\")\n",
        "print(df_new)"
      ],
      "metadata": {
        "colab": {
          "base_uri": "https://localhost:8080/"
        },
        "id": "dkt7UQoSANlO",
        "outputId": "b0731032-3b62-4c8b-d5c7-89ab7761e5b4"
      },
      "execution_count": null,
      "outputs": [
        {
          "output_type": "stream",
          "name": "stdout",
          "text": [
            "    Age\n",
            "0    41\n",
            "1    54\n",
            "2    42\n",
            "3    40\n",
            "4    46\n",
            "5    36\n",
            "6    32\n",
            "7    39\n",
            "8    51\n",
            "9    30\n",
            "10   48\n",
            "11   47\n",
            "12   61\n",
            "13   43\n",
            "14   27\n",
            "15   38\n",
            "16   35\n",
            "17   57\n",
            "18   33\n",
            "19   58\n",
            "20   64\n",
            "21   44\n",
            "22   34\n",
            "23   45\n",
            "24   55\n",
            "25   63\n",
            "26   59\n",
            "27   26\n",
            "28   56\n",
            "29   62\n",
            "30   31\n",
            "31   49\n",
            "32   53\n",
            "33   29\n",
            "34   28\n",
            "35   25\n",
            "36   37\n",
            "37   65\n",
            "38   60\n",
            "39   50\n",
            "40   52\n"
          ]
        }
      ]
    },
    {
      "cell_type": "code",
      "source": [
        "df.shape"
      ],
      "metadata": {
        "colab": {
          "base_uri": "https://localhost:8080/"
        },
        "id": "kDY_4T7fBFnM",
        "outputId": "9cc135bb-34c3-4938-9b40-650d0a932564"
      },
      "execution_count": null,
      "outputs": [
        {
          "output_type": "execute_result",
          "data": {
            "text/plain": [
              "(150000, 6)"
            ]
          },
          "metadata": {},
          "execution_count": 9
        }
      ]
    },
    {
      "cell_type": "code",
      "source": [
        "def run_query(query):\n",
        "  return sqldf(query,{'df':df})\n",
        "result=run_query(\"SELECT COUNT(DISTINCT Age)FROM df\")\n",
        "print(result)"
      ],
      "metadata": {
        "colab": {
          "base_uri": "https://localhost:8080/"
        },
        "id": "cE1pLgE3Bg5b",
        "outputId": "8ac991ad-ac3a-411f-e076-3353861019b7"
      },
      "execution_count": null,
      "outputs": [
        {
          "output_type": "stream",
          "name": "stdout",
          "text": [
            "   COUNT(DISTINCT Age)\n",
            "0                   41\n"
          ]
        }
      ]
    },
    {
      "cell_type": "code",
      "source": [
        "df.tail()\n",
        "def run_query(query):\n",
        "  return sqldf(query,{'df':df})\n",
        "result=run_query(\"\"\"\n",
        "SELECT Income\n",
        "FROM df\n",
        "WHERE Income > 40000;\n",
        "\"\"\" )\n",
        "print(result)"
      ],
      "metadata": {
        "colab": {
          "base_uri": "https://localhost:8080/"
        },
        "id": "KNEXlSDlCehF",
        "outputId": "21d70cce-d057-4d1d-e324-569fb6f81791"
      },
      "execution_count": null,
      "outputs": [
        {
          "output_type": "stream",
          "name": "stdout",
          "text": [
            "          Income\n",
            "0        40367.0\n",
            "1        45084.0\n",
            "2        52483.0\n",
            "3        40941.0\n",
            "4        50289.0\n",
            "...          ...\n",
            "143703   93669.0\n",
            "143704   96748.0\n",
            "143705  111885.0\n",
            "143706  111878.0\n",
            "143707   87251.0\n",
            "\n",
            "[143708 rows x 1 columns]\n"
          ]
        }
      ]
    },
    {
      "cell_type": "code",
      "source": [
        "def run_query(query):\n",
        "  return sqldf(query,{'df':df})\n",
        "result=run_query(\"\"\"\n",
        "SELECT Age\n",
        "FROM df\n",
        "WHERE Age BETWEEN 50 AND 60;\n",
        "\"\"\")\n",
        "print(result)\n"
      ],
      "metadata": {
        "colab": {
          "base_uri": "https://localhost:8080/"
        },
        "id": "lJHaMe-3Dm5B",
        "outputId": "0688ac15-6c30-4e24-a767-050ab8a11937"
      },
      "execution_count": null,
      "outputs": [
        {
          "output_type": "stream",
          "name": "stdout",
          "text": [
            "       Age\n",
            "0       54\n",
            "1       51\n",
            "2       57\n",
            "3       58\n",
            "4       58\n",
            "...    ...\n",
            "40871   50\n",
            "40872   51\n",
            "40873   55\n",
            "40874   52\n",
            "40875   51\n",
            "\n",
            "[40876 rows x 1 columns]\n"
          ]
        }
      ]
    },
    {
      "cell_type": "code",
      "source": [
        "#like finds similarities/search for a pattern\n",
        "def run_query(query):\n",
        "  return sqldf(query,{'df':df})\n",
        "result=run_query(\"\"\"\n",
        "SELECT City\n",
        "FROM df\n",
        "WHERE City LIKE 'Dallas';\n",
        "\"\"\")\n",
        "print(result)"
      ],
      "metadata": {
        "colab": {
          "base_uri": "https://localhost:8080/"
        },
        "id": "KpGGerMTEbja",
        "outputId": "c30e736c-4b8d-4202-c9fb-bbe6e2943755"
      },
      "execution_count": null,
      "outputs": [
        {
          "output_type": "stream",
          "name": "stdout",
          "text": [
            "         City\n",
            "0      Dallas\n",
            "1      Dallas\n",
            "2      Dallas\n",
            "3      Dallas\n",
            "4      Dallas\n",
            "...       ...\n",
            "19702  Dallas\n",
            "19703  Dallas\n",
            "19704  Dallas\n",
            "19705  Dallas\n",
            "19706  Dallas\n",
            "\n",
            "[19707 rows x 1 columns]\n"
          ]
        }
      ]
    },
    {
      "cell_type": "code",
      "source": [
        "#in ultiple values in a column,they all share the same value\n",
        "df.tail()\n",
        "def run_query(query):\n",
        "  return sqldf(query,{'df':df})\n",
        "result=run_query(\"\"\"\n",
        "SELECT City\n",
        "FROM df\n",
        "WHERE City IN ('Dallas');\n",
        "\"\"\")\n",
        "print(result)\n",
        "\n",
        "def run_query(query):\n",
        "  return sqldf(query,{'df':df})\n",
        "result1=run_query(\"\"\"\n",
        "SELECT Gender\n",
        "FROM df\n",
        "WHERE Gender IN ('Female');  #where not,where use=\n",
        "\"\"\")\n",
        "print(result1)"
      ],
      "metadata": {
        "colab": {
          "base_uri": "https://localhost:8080/"
        },
        "id": "710XIK9FEvhv",
        "outputId": "21d2da75-803b-4f85-d71b-6ad72b3c26ab"
      },
      "execution_count": null,
      "outputs": [
        {
          "output_type": "stream",
          "name": "stdout",
          "text": [
            "         City\n",
            "0      Dallas\n",
            "1      Dallas\n",
            "2      Dallas\n",
            "3      Dallas\n",
            "4      Dallas\n",
            "...       ...\n",
            "19702  Dallas\n",
            "19703  Dallas\n",
            "19704  Dallas\n",
            "19705  Dallas\n",
            "19706  Dallas\n",
            "\n",
            "[19707 rows x 1 columns]\n",
            "       Gender\n",
            "0      Female\n",
            "1      Female\n",
            "2      Female\n",
            "3      Female\n",
            "4      Female\n",
            "...       ...\n",
            "66195  Female\n",
            "66196  Female\n",
            "66197  Female\n",
            "66198  Female\n",
            "66199  Female\n",
            "\n",
            "[66200 rows x 1 columns]\n"
          ]
        }
      ]
    },
    {
      "cell_type": "code",
      "source": [
        "df.head()"
      ],
      "metadata": {
        "colab": {
          "base_uri": "https://localhost:8080/",
          "height": 206
        },
        "id": "A4oap5_PLErq",
        "outputId": "71871470-b7fc-43f9-ace4-20543c9c92c5"
      },
      "execution_count": null,
      "outputs": [
        {
          "output_type": "execute_result",
          "data": {
            "text/plain": [
              "   Number    City Gender  Age   Income Illness\n",
              "0       1  Dallas   Male   41  40367.0      No\n",
              "1       2  Dallas   Male   54  45084.0      No\n",
              "2       3  Dallas   Male   42  52483.0      No\n",
              "3       4  Dallas   Male   40  40941.0      No\n",
              "4       5  Dallas   Male   46  50289.0      No"
            ],
            "text/html": [
              "\n",
              "  <div id=\"df-635019f4-0243-4154-97cc-873865c33131\" class=\"colab-df-container\">\n",
              "    <div>\n",
              "<style scoped>\n",
              "    .dataframe tbody tr th:only-of-type {\n",
              "        vertical-align: middle;\n",
              "    }\n",
              "\n",
              "    .dataframe tbody tr th {\n",
              "        vertical-align: top;\n",
              "    }\n",
              "\n",
              "    .dataframe thead th {\n",
              "        text-align: right;\n",
              "    }\n",
              "</style>\n",
              "<table border=\"1\" class=\"dataframe\">\n",
              "  <thead>\n",
              "    <tr style=\"text-align: right;\">\n",
              "      <th></th>\n",
              "      <th>Number</th>\n",
              "      <th>City</th>\n",
              "      <th>Gender</th>\n",
              "      <th>Age</th>\n",
              "      <th>Income</th>\n",
              "      <th>Illness</th>\n",
              "    </tr>\n",
              "  </thead>\n",
              "  <tbody>\n",
              "    <tr>\n",
              "      <th>0</th>\n",
              "      <td>1</td>\n",
              "      <td>Dallas</td>\n",
              "      <td>Male</td>\n",
              "      <td>41</td>\n",
              "      <td>40367.0</td>\n",
              "      <td>No</td>\n",
              "    </tr>\n",
              "    <tr>\n",
              "      <th>1</th>\n",
              "      <td>2</td>\n",
              "      <td>Dallas</td>\n",
              "      <td>Male</td>\n",
              "      <td>54</td>\n",
              "      <td>45084.0</td>\n",
              "      <td>No</td>\n",
              "    </tr>\n",
              "    <tr>\n",
              "      <th>2</th>\n",
              "      <td>3</td>\n",
              "      <td>Dallas</td>\n",
              "      <td>Male</td>\n",
              "      <td>42</td>\n",
              "      <td>52483.0</td>\n",
              "      <td>No</td>\n",
              "    </tr>\n",
              "    <tr>\n",
              "      <th>3</th>\n",
              "      <td>4</td>\n",
              "      <td>Dallas</td>\n",
              "      <td>Male</td>\n",
              "      <td>40</td>\n",
              "      <td>40941.0</td>\n",
              "      <td>No</td>\n",
              "    </tr>\n",
              "    <tr>\n",
              "      <th>4</th>\n",
              "      <td>5</td>\n",
              "      <td>Dallas</td>\n",
              "      <td>Male</td>\n",
              "      <td>46</td>\n",
              "      <td>50289.0</td>\n",
              "      <td>No</td>\n",
              "    </tr>\n",
              "  </tbody>\n",
              "</table>\n",
              "</div>\n",
              "    <div class=\"colab-df-buttons\">\n",
              "\n",
              "  <div class=\"colab-df-container\">\n",
              "    <button class=\"colab-df-convert\" onclick=\"convertToInteractive('df-635019f4-0243-4154-97cc-873865c33131')\"\n",
              "            title=\"Convert this dataframe to an interactive table.\"\n",
              "            style=\"display:none;\">\n",
              "\n",
              "  <svg xmlns=\"http://www.w3.org/2000/svg\" height=\"24px\" viewBox=\"0 -960 960 960\">\n",
              "    <path d=\"M120-120v-720h720v720H120Zm60-500h600v-160H180v160Zm220 220h160v-160H400v160Zm0 220h160v-160H400v160ZM180-400h160v-160H180v160Zm440 0h160v-160H620v160ZM180-180h160v-160H180v160Zm440 0h160v-160H620v160Z\"/>\n",
              "  </svg>\n",
              "    </button>\n",
              "\n",
              "  <style>\n",
              "    .colab-df-container {\n",
              "      display:flex;\n",
              "      gap: 12px;\n",
              "    }\n",
              "\n",
              "    .colab-df-convert {\n",
              "      background-color: #E8F0FE;\n",
              "      border: none;\n",
              "      border-radius: 50%;\n",
              "      cursor: pointer;\n",
              "      display: none;\n",
              "      fill: #1967D2;\n",
              "      height: 32px;\n",
              "      padding: 0 0 0 0;\n",
              "      width: 32px;\n",
              "    }\n",
              "\n",
              "    .colab-df-convert:hover {\n",
              "      background-color: #E2EBFA;\n",
              "      box-shadow: 0px 1px 2px rgba(60, 64, 67, 0.3), 0px 1px 3px 1px rgba(60, 64, 67, 0.15);\n",
              "      fill: #174EA6;\n",
              "    }\n",
              "\n",
              "    .colab-df-buttons div {\n",
              "      margin-bottom: 4px;\n",
              "    }\n",
              "\n",
              "    [theme=dark] .colab-df-convert {\n",
              "      background-color: #3B4455;\n",
              "      fill: #D2E3FC;\n",
              "    }\n",
              "\n",
              "    [theme=dark] .colab-df-convert:hover {\n",
              "      background-color: #434B5C;\n",
              "      box-shadow: 0px 1px 3px 1px rgba(0, 0, 0, 0.15);\n",
              "      filter: drop-shadow(0px 1px 2px rgba(0, 0, 0, 0.3));\n",
              "      fill: #FFFFFF;\n",
              "    }\n",
              "  </style>\n",
              "\n",
              "    <script>\n",
              "      const buttonEl =\n",
              "        document.querySelector('#df-635019f4-0243-4154-97cc-873865c33131 button.colab-df-convert');\n",
              "      buttonEl.style.display =\n",
              "        google.colab.kernel.accessAllowed ? 'block' : 'none';\n",
              "\n",
              "      async function convertToInteractive(key) {\n",
              "        const element = document.querySelector('#df-635019f4-0243-4154-97cc-873865c33131');\n",
              "        const dataTable =\n",
              "          await google.colab.kernel.invokeFunction('convertToInteractive',\n",
              "                                                    [key], {});\n",
              "        if (!dataTable) return;\n",
              "\n",
              "        const docLinkHtml = 'Like what you see? Visit the ' +\n",
              "          '<a target=\"_blank\" href=https://colab.research.google.com/notebooks/data_table.ipynb>data table notebook</a>'\n",
              "          + ' to learn more about interactive tables.';\n",
              "        element.innerHTML = '';\n",
              "        dataTable['output_type'] = 'display_data';\n",
              "        await google.colab.output.renderOutput(dataTable, element);\n",
              "        const docLink = document.createElement('div');\n",
              "        docLink.innerHTML = docLinkHtml;\n",
              "        element.appendChild(docLink);\n",
              "      }\n",
              "    </script>\n",
              "  </div>\n",
              "\n",
              "\n",
              "<div id=\"df-3da270e0-3e95-4aeb-b419-646154a5e0fe\">\n",
              "  <button class=\"colab-df-quickchart\" onclick=\"quickchart('df-3da270e0-3e95-4aeb-b419-646154a5e0fe')\"\n",
              "            title=\"Suggest charts\"\n",
              "            style=\"display:none;\">\n",
              "\n",
              "<svg xmlns=\"http://www.w3.org/2000/svg\" height=\"24px\"viewBox=\"0 0 24 24\"\n",
              "     width=\"24px\">\n",
              "    <g>\n",
              "        <path d=\"M19 3H5c-1.1 0-2 .9-2 2v14c0 1.1.9 2 2 2h14c1.1 0 2-.9 2-2V5c0-1.1-.9-2-2-2zM9 17H7v-7h2v7zm4 0h-2V7h2v10zm4 0h-2v-4h2v4z\"/>\n",
              "    </g>\n",
              "</svg>\n",
              "  </button>\n",
              "\n",
              "<style>\n",
              "  .colab-df-quickchart {\n",
              "      --bg-color: #E8F0FE;\n",
              "      --fill-color: #1967D2;\n",
              "      --hover-bg-color: #E2EBFA;\n",
              "      --hover-fill-color: #174EA6;\n",
              "      --disabled-fill-color: #AAA;\n",
              "      --disabled-bg-color: #DDD;\n",
              "  }\n",
              "\n",
              "  [theme=dark] .colab-df-quickchart {\n",
              "      --bg-color: #3B4455;\n",
              "      --fill-color: #D2E3FC;\n",
              "      --hover-bg-color: #434B5C;\n",
              "      --hover-fill-color: #FFFFFF;\n",
              "      --disabled-bg-color: #3B4455;\n",
              "      --disabled-fill-color: #666;\n",
              "  }\n",
              "\n",
              "  .colab-df-quickchart {\n",
              "    background-color: var(--bg-color);\n",
              "    border: none;\n",
              "    border-radius: 50%;\n",
              "    cursor: pointer;\n",
              "    display: none;\n",
              "    fill: var(--fill-color);\n",
              "    height: 32px;\n",
              "    padding: 0;\n",
              "    width: 32px;\n",
              "  }\n",
              "\n",
              "  .colab-df-quickchart:hover {\n",
              "    background-color: var(--hover-bg-color);\n",
              "    box-shadow: 0 1px 2px rgba(60, 64, 67, 0.3), 0 1px 3px 1px rgba(60, 64, 67, 0.15);\n",
              "    fill: var(--button-hover-fill-color);\n",
              "  }\n",
              "\n",
              "  .colab-df-quickchart-complete:disabled,\n",
              "  .colab-df-quickchart-complete:disabled:hover {\n",
              "    background-color: var(--disabled-bg-color);\n",
              "    fill: var(--disabled-fill-color);\n",
              "    box-shadow: none;\n",
              "  }\n",
              "\n",
              "  .colab-df-spinner {\n",
              "    border: 2px solid var(--fill-color);\n",
              "    border-color: transparent;\n",
              "    border-bottom-color: var(--fill-color);\n",
              "    animation:\n",
              "      spin 1s steps(1) infinite;\n",
              "  }\n",
              "\n",
              "  @keyframes spin {\n",
              "    0% {\n",
              "      border-color: transparent;\n",
              "      border-bottom-color: var(--fill-color);\n",
              "      border-left-color: var(--fill-color);\n",
              "    }\n",
              "    20% {\n",
              "      border-color: transparent;\n",
              "      border-left-color: var(--fill-color);\n",
              "      border-top-color: var(--fill-color);\n",
              "    }\n",
              "    30% {\n",
              "      border-color: transparent;\n",
              "      border-left-color: var(--fill-color);\n",
              "      border-top-color: var(--fill-color);\n",
              "      border-right-color: var(--fill-color);\n",
              "    }\n",
              "    40% {\n",
              "      border-color: transparent;\n",
              "      border-right-color: var(--fill-color);\n",
              "      border-top-color: var(--fill-color);\n",
              "    }\n",
              "    60% {\n",
              "      border-color: transparent;\n",
              "      border-right-color: var(--fill-color);\n",
              "    }\n",
              "    80% {\n",
              "      border-color: transparent;\n",
              "      border-right-color: var(--fill-color);\n",
              "      border-bottom-color: var(--fill-color);\n",
              "    }\n",
              "    90% {\n",
              "      border-color: transparent;\n",
              "      border-bottom-color: var(--fill-color);\n",
              "    }\n",
              "  }\n",
              "</style>\n",
              "\n",
              "  <script>\n",
              "    async function quickchart(key) {\n",
              "      const quickchartButtonEl =\n",
              "        document.querySelector('#' + key + ' button');\n",
              "      quickchartButtonEl.disabled = true;  // To prevent multiple clicks.\n",
              "      quickchartButtonEl.classList.add('colab-df-spinner');\n",
              "      try {\n",
              "        const charts = await google.colab.kernel.invokeFunction(\n",
              "            'suggestCharts', [key], {});\n",
              "      } catch (error) {\n",
              "        console.error('Error during call to suggestCharts:', error);\n",
              "      }\n",
              "      quickchartButtonEl.classList.remove('colab-df-spinner');\n",
              "      quickchartButtonEl.classList.add('colab-df-quickchart-complete');\n",
              "    }\n",
              "    (() => {\n",
              "      let quickchartButtonEl =\n",
              "        document.querySelector('#df-3da270e0-3e95-4aeb-b419-646154a5e0fe button');\n",
              "      quickchartButtonEl.style.display =\n",
              "        google.colab.kernel.accessAllowed ? 'block' : 'none';\n",
              "    })();\n",
              "  </script>\n",
              "</div>\n",
              "\n",
              "    </div>\n",
              "  </div>\n"
            ],
            "application/vnd.google.colaboratory.intrinsic+json": {
              "type": "dataframe",
              "variable_name": "df"
            }
          },
          "metadata": {},
          "execution_count": 41
        }
      ]
    },
    {
      "cell_type": "code",
      "source": [
        "def run_query(query):\n",
        "  return sqldf(query,{'df':df})\n",
        "result1=run_query(\"\"\"\n",
        "SELECT Age\n",
        "FROM df\n",
        "WHERE Age BETWEEN 45 AND 60 ;\n",
        "\"\"\")\n",
        "print(result1)"
      ],
      "metadata": {
        "colab": {
          "base_uri": "https://localhost:8080/"
        },
        "id": "PT-3id8ZLCBJ",
        "outputId": "1604e3fb-65c1-4d88-a323-7ad5e20d1071"
      },
      "execution_count": null,
      "outputs": [
        {
          "output_type": "stream",
          "name": "stdout",
          "text": [
            "       Age\n",
            "0       54\n",
            "1       46\n",
            "2       51\n",
            "3       48\n",
            "4       47\n",
            "...    ...\n",
            "59526   51\n",
            "59527   55\n",
            "59528   52\n",
            "59529   51\n",
            "59530   48\n",
            "\n",
            "[59531 rows x 1 columns]\n"
          ]
        }
      ]
    },
    {
      "cell_type": "code",
      "source": [
        "def run_query(query):\n",
        "  return sqldf(query,{'df':df})\n",
        "result1=run_query(\"\"\"\n",
        "SELECT Gender\n",
        "FROM df\n",
        "WHERE Gender ='Male'OR Gender ='Female' ;\n",
        "\"\"\")\n",
        "print(result1)\n",
        "\n",
        "def run_query(query):\n",
        "   return sqldf(query,{'df':df})\n",
        "result2=run_query(\"\"\"\n",
        "SELECT Gender\n",
        "FROM df\n",
        "WHERE Gender IN ('Male','Female');\n",
        "\"\"\")\n",
        "print(result2)"
      ],
      "metadata": {
        "colab": {
          "base_uri": "https://localhost:8080/"
        },
        "id": "RVwdScvwMcm1",
        "outputId": "6e74c658-b049-43b5-9703-34e382dd5529"
      },
      "execution_count": null,
      "outputs": [
        {
          "output_type": "stream",
          "name": "stdout",
          "text": [
            "        Gender\n",
            "0         Male\n",
            "1         Male\n",
            "2         Male\n",
            "3         Male\n",
            "4         Male\n",
            "...        ...\n",
            "149995    Male\n",
            "149996    Male\n",
            "149997    Male\n",
            "149998    Male\n",
            "149999  Female\n",
            "\n",
            "[150000 rows x 1 columns]\n",
            "        Gender\n",
            "0         Male\n",
            "1         Male\n",
            "2         Male\n",
            "3         Male\n",
            "4         Male\n",
            "...        ...\n",
            "149995    Male\n",
            "149996    Male\n",
            "149997    Male\n",
            "149998    Male\n",
            "149999  Female\n",
            "\n",
            "[150000 rows x 1 columns]\n"
          ]
        }
      ]
    },
    {
      "cell_type": "code",
      "source": [
        "def run_query(query):\n",
        "  return sqldf(query,{'df':df})\n",
        "result1=run_query(\"\"\"\n",
        "SELECT Gender\n",
        "FROM df\n",
        "WHERE NOT Gender ='Male' ;\n",
        "\"\"\")\n",
        "print(result1)"
      ],
      "metadata": {
        "colab": {
          "base_uri": "https://localhost:8080/"
        },
        "id": "t9B9yqx-NgbM",
        "outputId": "35912821-68fd-4d17-9082-d6dd10d6ef3f"
      },
      "execution_count": null,
      "outputs": [
        {
          "output_type": "stream",
          "name": "stdout",
          "text": [
            "       Gender\n",
            "0      Female\n",
            "1      Female\n",
            "2      Female\n",
            "3      Female\n",
            "4      Female\n",
            "...       ...\n",
            "66195  Female\n",
            "66196  Female\n",
            "66197  Female\n",
            "66198  Female\n",
            "66199  Female\n",
            "\n",
            "[66200 rows x 1 columns]\n"
          ]
        }
      ]
    },
    {
      "cell_type": "code",
      "source": [
        "#combining and,or,not\n",
        "def run_query(query):\n",
        "  return sqldf(query,{'df':df})\n",
        "result1=run_query(\"\"\"\n",
        "SELECT *\n",
        "FROM df\n",
        "WHERE Gender ='Male' AND Income BETWEEN 45000 AND 60000 AND City='Dallas' ;\n",
        "\"\"\")\n",
        "print(result1)\n"
      ],
      "metadata": {
        "colab": {
          "base_uri": "https://localhost:8080/"
        },
        "id": "TI1r8PpKOXEd",
        "outputId": "5733a01f-9d45-4574-b644-8bab4768ad61"
      },
      "execution_count": null,
      "outputs": [
        {
          "output_type": "stream",
          "name": "stdout",
          "text": [
            "      Number    City Gender  Age   Income Illness\n",
            "0          2  Dallas   Male   54  45084.0      No\n",
            "1          3  Dallas   Male   42  52483.0      No\n",
            "2          5  Dallas   Male   46  50289.0      No\n",
            "3         12  Dallas   Male   47  54777.0      No\n",
            "4         17  Dallas   Male   27  50398.0      No\n",
            "...      ...     ...    ...  ...      ...     ...\n",
            "5765   19698  Dallas   Male   43  45809.0      No\n",
            "5766   19699  Dallas   Male   58  47757.0      No\n",
            "5767   19705  Dallas   Male   33  53190.0      No\n",
            "5768   19706  Dallas   Male   37  54265.0      No\n",
            "5769   19707  Dallas   Male   59  51265.0      No\n",
            "\n",
            "[5770 rows x 6 columns]\n"
          ]
        }
      ]
    },
    {
      "cell_type": "code",
      "source": [
        "def run_query(query):\n",
        "  return sqldf(query,{'df':df})\n",
        "result1=run_query(\"\"\"\n",
        "SELECT *\n",
        "FROM df\n",
        "WHERE NOT Age =50 AND (Income =45000 OR Income=50000) AND City='Dallas' AND Gender='Female' ;\n",
        "\"\"\")\n",
        "print(result1)\n"
      ],
      "metadata": {
        "colab": {
          "base_uri": "https://localhost:8080/"
        },
        "id": "QizIaRjmQF4x",
        "outputId": "c98effb8-0140-4fcb-9432-81796556f263"
      },
      "execution_count": null,
      "outputs": [
        {
          "output_type": "stream",
          "name": "stdout",
          "text": [
            "   Number    City  Gender  Age   Income Illness\n",
            "0    4628  Dallas  Female   45  45000.0      No\n",
            "1   12397  Dallas  Female   53  50000.0      No\n",
            "2   13560  Dallas  Female   62  50000.0      No\n"
          ]
        }
      ]
    },
    {
      "cell_type": "code",
      "source": [
        "def run_query(query):\n",
        "  return sqldf(query,{'df':df})\n",
        "result=run_query(\"\"\"\n",
        "SELECT *\n",
        "FROM df\n",
        "WHERE Income > 55000\n",
        "ORDER BY Income DESC;\n",
        "\"\"\")\n",
        "print(result)"
      ],
      "metadata": {
        "colab": {
          "base_uri": "https://localhost:8080/"
        },
        "id": "xVJGEoDLLDDJ",
        "outputId": "dab0809a-f3e9-44fd-d1c9-e4a5d31d4f11"
      },
      "execution_count": null,
      "outputs": [
        {
          "output_type": "stream",
          "name": "stdout",
          "text": [
            "        Number             City  Gender   Age    Income Illness\n",
            "0       109351    Mountain View    Male  58.0  177157.0      No\n",
            "1       105282    Mountain View    Male  41.0  176746.0      No\n",
            "2       109061    Mountain View    Male  61.0  173991.0      No\n",
            "3       110878    Mountain View    Male  52.0  173826.0      No\n",
            "4       112193    Mountain View    Male  58.0  172825.0      No\n",
            "...        ...              ...     ...   ...       ...     ...\n",
            "119231   14617           Dallas    Male  48.0   55007.0      No\n",
            "119232    7080           Dallas    Male  25.0   55005.0      No\n",
            "119233    3428           Dallas    Male  43.0   55004.0      No\n",
            "119234   13295           Dallas    Male  54.0   55004.0      No\n",
            "119235  124863  Washington D.C.  Female  29.0   55003.0      No\n",
            "\n",
            "[119236 rows x 6 columns]\n"
          ]
        }
      ]
    },
    {
      "cell_type": "code",
      "source": [
        "def run_query(query):\n",
        "  return sqldf(query,{'df':df})\n",
        "result=run_query(\"\"\"\n",
        "SELECT *\n",
        "FROM df\n",
        "ORDER BY Age ASC;\n",
        "\"\"\")\n",
        "print(result)"
      ],
      "metadata": {
        "colab": {
          "base_uri": "https://localhost:8080/"
        },
        "id": "2JE8-qInNgEw",
        "outputId": "d2213070-54a3-4c7a-929e-7796b1098ab8"
      },
      "execution_count": null,
      "outputs": [
        {
          "output_type": "stream",
          "name": "stdout",
          "text": [
            "        Number       City  Gender   Age    Income Illness\n",
            "0         1357       None    None   NaN       NaN    None\n",
            "1           92     Dallas  Female  25.0   34653.0      No\n",
            "2          169     Dallas    Male  25.0   42719.0      No\n",
            "3          176     Dallas    Male  25.0   43413.0      No\n",
            "4          323     Dallas    Male  25.0   56736.0      No\n",
            "...        ...        ...     ...   ...       ...     ...\n",
            "135756  135486  San Diego  Female  65.0  112043.0      No\n",
            "135757  135492  San Diego    Male  65.0  117432.0      No\n",
            "135758  135503  San Diego  Female  65.0   70328.0      No\n",
            "135759  135611  San Diego    Male  65.0  106797.0      No\n",
            "135760  135701  San Diego    Male  65.0   99300.0      No\n",
            "\n",
            "[135761 rows x 6 columns]\n"
          ]
        }
      ]
    },
    {
      "cell_type": "code",
      "source": [
        "from re import S\n",
        "#INSERT INTO DF\n",
        "def run_query(query):\n",
        "  return sqldf(query,{'df':df})\n",
        "result=run_query(\"\"\"\n",
        "SELECT *\n",
        "FROM df\n",
        "\"\"\")\n",
        "\n",
        "df.loc[df['Number']==250,['City','Gender', 'Age','Income','Illness']]=['San Diego','Female','30','48000','No']\n",
        "print(df.loc[df['Number']==250])"
      ],
      "metadata": {
        "colab": {
          "base_uri": "https://localhost:8080/"
        },
        "id": "J5IC58fWQTu4",
        "outputId": "d5fb48b1-79ba-47db-cce2-01bc2170796b"
      },
      "execution_count": null,
      "outputs": [
        {
          "output_type": "stream",
          "name": "stdout",
          "text": [
            "     Number       City  Gender Age Income Illness\n",
            "249     250  San Diego  Female  30  48000      No\n"
          ]
        }
      ]
    },
    {
      "cell_type": "code",
      "source": [
        "def run_query(query):\n",
        "  return sqldf(query,{'df':df})\n",
        "result=run_query(\"\"\"\n",
        "SELECT *\n",
        "FROM df\n",
        "WHERE City IS NULL AND Gender IS NULL AND Age IS NULL AND Income IS NULL AND Illness IS NULL;\n",
        "\"\"\")\n",
        "print(result)"
      ],
      "metadata": {
        "colab": {
          "base_uri": "https://localhost:8080/"
        },
        "id": "wmRJQUfFGg8c",
        "outputId": "04ff7314-f73f-480f-aa26-2900506ca98c"
      },
      "execution_count": null,
      "outputs": [
        {
          "output_type": "stream",
          "name": "stdout",
          "text": [
            "Empty DataFrame\n",
            "Columns: [Number, City, Gender, Age, Income, Illness]\n",
            "Index: []\n"
          ]
        }
      ]
    },
    {
      "cell_type": "code",
      "source": [
        "def run_query(query):\n",
        "    result=run_query(\"\"\"\n",
        "SELECT *\n",
        "FROM df\n",
        "WHERE City IS NOT NULL AND Gender IS NOT NULL AND Age IS NOT NULL AND Income IS NOT NULL AND Illness IS NOT NULL;\n",
        "\"\"\")\n",
        "\n",
        "print(result)"
      ],
      "metadata": {
        "colab": {
          "base_uri": "https://localhost:8080/"
        },
        "id": "j6pb8AMMJGyJ",
        "outputId": "c6b76f81-d936-4ba2-db67-54dc092126c2"
      },
      "execution_count": null,
      "outputs": [
        {
          "output_type": "stream",
          "name": "stdout",
          "text": [
            "        Number    City  Gender  Age    Income Illness\n",
            "0            1  Dallas    Male   41   40367.0      No\n",
            "1            2  Dallas    Male   54   45084.0      No\n",
            "2            3  Dallas    Male   42   52483.0      No\n",
            "3            4  Dallas    Male   40   40941.0      No\n",
            "4            5  Dallas    Male   46   50289.0      No\n",
            "...        ...     ...     ...  ...       ...     ...\n",
            "149995  149996  Austin    Male   48   93669.0      No\n",
            "149996  149997  Austin    Male   25   96748.0      No\n",
            "149997  149998  Austin    Male   26  111885.0      No\n",
            "149998  149999  Austin    Male   25  111878.0      No\n",
            "149999  150000  Austin  Female   37   87251.0      No\n",
            "\n",
            "[150000 rows x 6 columns]\n"
          ]
        }
      ]
    },
    {
      "cell_type": "code",
      "source": [
        "def run_query(query):\n",
        "  return sqldf(query,{'df':df})\n",
        "result=run_query(\"\"\"\n",
        "SELECT *\n",
        "FROM df;\n",
        "\"\"\")\n",
        "\n",
        "df.loc[df['Number'] ==1,['City','Gender']]=['Anna' ,'Female']\n",
        "print(df.loc[df['Number'] ==1])"
      ],
      "metadata": {
        "colab": {
          "base_uri": "https://localhost:8080/"
        },
        "id": "FpLy8lAgKuk4",
        "outputId": "cf792535-cbfa-4ea8-e702-f192ef6857a2"
      },
      "execution_count": null,
      "outputs": [
        {
          "output_type": "stream",
          "name": "stdout",
          "text": [
            "   Number  City  Gender  Age   Income Illness\n",
            "0       1  Anna  Female   41  40367.0      No\n"
          ]
        }
      ]
    },
    {
      "cell_type": "code",
      "source": [
        "data={\"Name\":['Purity','Alexandria','Stomzy','Ariana','Anna','Peter','Aura'],\n",
        "      \"Occupation\":['Doctor','Engineer','Software Engineer','Nurse','Singer','Teacher','Teacher'],\n",
        "      \"Income\":[100000,450000,78000,69000,78000,56000,40000]}\n",
        "df=pd.DataFrame(data)\n",
        "print(df)"
      ],
      "metadata": {
        "colab": {
          "base_uri": "https://localhost:8080/"
        },
        "id": "BlPJWLAOSieK",
        "outputId": "b799f1c4-7335-4387-f955-697735ed1810"
      },
      "execution_count": null,
      "outputs": [
        {
          "output_type": "stream",
          "name": "stdout",
          "text": [
            "         Name         Occupation  Income\n",
            "0      Purity             Doctor  100000\n",
            "1  Alexandria           Engineer  450000\n",
            "2      Stomzy  Software Engineer   78000\n",
            "3      Ariana              Nurse   69000\n",
            "4        Anna             Singer   78000\n",
            "5       Peter            Teacher   56000\n",
            "6        Aura            Teacher   40000\n"
          ]
        }
      ]
    },
    {
      "cell_type": "code",
      "source": [
        "def run_query(query):\n",
        "  return sqldf(query,{'df':df})\n",
        "result=run_query(\"\"\"\n",
        "SELECT *\n",
        "FROM df\n",
        "WHERE  Income IN (78000);\n",
        "\"\"\")\n",
        "print(result)"
      ],
      "metadata": {
        "colab": {
          "base_uri": "https://localhost:8080/"
        },
        "id": "5zDUZkdaX8wb",
        "outputId": "ffd33bb4-b47e-4769-c6b1-61d3147b0927"
      },
      "execution_count": null,
      "outputs": [
        {
          "output_type": "stream",
          "name": "stdout",
          "text": [
            "     Name         Occupation  Income\n",
            "0  Stomzy  Software Engineer   78000\n",
            "1    Anna             Singer   78000\n"
          ]
        }
      ]
    },
    {
      "cell_type": "code",
      "source": [
        "def run_query(query):\n",
        "  return sqldf(query,{'df':df})\n",
        "result=run_query(\"\"\"\n",
        "SELECT *\n",
        "FROM df\n",
        "WHERE Income >= 78000;\n",
        "\"\"\")\n",
        "print(result)"
      ],
      "metadata": {
        "colab": {
          "base_uri": "https://localhost:8080/"
        },
        "id": "wyeu1hFxaRHa",
        "outputId": "2e483608-b4f7-41af-b32a-b35c922b129c"
      },
      "execution_count": null,
      "outputs": [
        {
          "output_type": "stream",
          "name": "stdout",
          "text": [
            "         Name         Occupation  Income\n",
            "0      Purity             Doctor  100000\n",
            "1  Alexandria           Engineer  450000\n",
            "2      Stomzy  Software Engineer   78000\n",
            "3        Anna             Singer   78000\n"
          ]
        }
      ]
    },
    {
      "cell_type": "code",
      "source": [
        "#add column\n",
        "df_new=df.loc[len(df.index)]=['Stacy','Artist',5000]\n",
        "print(df_new)\n",
        "print(df)"
      ],
      "metadata": {
        "colab": {
          "base_uri": "https://localhost:8080/"
        },
        "id": "GyibDWbybuYc",
        "outputId": "fa78744b-ec35-49c8-b7a9-9b841f0c4b4e"
      },
      "execution_count": null,
      "outputs": [
        {
          "output_type": "stream",
          "name": "stdout",
          "text": [
            "['Stacy', 'Artist', 5000]\n",
            "          Name         Occupation  Income\n",
            "0       Purity             Doctor  100000\n",
            "1   Alexandria           Engineer  450000\n",
            "2       Stomzy  Software Engineer   78000\n",
            "3       Ariana              Nurse   69000\n",
            "4         Anna             Singer   78000\n",
            "5        Peter            Teacher   56000\n",
            "6         Aura            Teacher   40000\n",
            "7        Stacy             Artist    5000\n",
            "8        Stacy             Artist    5000\n",
            "9        Stacy             Artist    5000\n",
            "10       Stacy             Artist    5000\n",
            "11       Stacy             Artist    5000\n",
            "12       Stacy             Artist    5000\n",
            "13       Stacy             Artist    5000\n",
            "14       Stacy             Artist    5000\n"
          ]
        }
      ]
    },
    {
      "cell_type": "code",
      "source": [
        "def run_query(query):\n",
        "  return sqldf(query,{'df':df})\n",
        "\n",
        "# Filter the DataFrame using .loc and assign the result to a new variable\n",
        "filtered_df = df.loc[(df['Name'] == 'Stacy') & (df['Occupation'] == 'Skater') & (df['Income'] == 50000)]\n",
        "\n",
        "# Print the filtered DataFrame\n",
        "print(filtered_df)"
      ],
      "metadata": {
        "colab": {
          "base_uri": "https://localhost:8080/"
        },
        "id": "TM5rN3SXkZNL",
        "outputId": "9b65aac4-6c2f-40ac-aec6-adb0596d44ff"
      },
      "execution_count": null,
      "outputs": [
        {
          "output_type": "stream",
          "name": "stdout",
          "text": [
            "Empty DataFrame\n",
            "Columns: [Name, Occupation, Income]\n",
            "Index: []\n"
          ]
        }
      ]
    },
    {
      "cell_type": "code",
      "source": [
        "data={\"Name\":['Purity','Alexandria','Stomzy','Ariana','Anna','Peter','Aura'],\n",
        "      \"Occupation\":['Doctor','Engineer','Software Engineer','Nurse','Singer','Teacher','Teacher'],\n",
        "      \"Income\":[100000,450000,78000,69000,78000,56000,40000]}\n",
        "df=pd.DataFrame(data)\n",
        "print(df)\n",
        "df.loc[len(df.index)]=['Stacy','Artist',50000]\n",
        "print(df)"
      ],
      "metadata": {
        "colab": {
          "base_uri": "https://localhost:8080/"
        },
        "id": "P_GJszhSu3l-",
        "outputId": "00280ec6-ac6c-4eb3-c2b6-a5f20547d052"
      },
      "execution_count": 11,
      "outputs": [
        {
          "output_type": "stream",
          "name": "stdout",
          "text": [
            "         Name         Occupation  Income\n",
            "0      Purity             Doctor  100000\n",
            "1  Alexandria           Engineer  450000\n",
            "2      Stomzy  Software Engineer   78000\n",
            "3      Ariana              Nurse   69000\n",
            "4        Anna             Singer   78000\n",
            "5       Peter            Teacher   56000\n",
            "6        Aura            Teacher   40000\n",
            "         Name         Occupation  Income\n",
            "0      Purity             Doctor  100000\n",
            "1  Alexandria           Engineer  450000\n",
            "2      Stomzy  Software Engineer   78000\n",
            "3      Ariana              Nurse   69000\n",
            "4        Anna             Singer   78000\n",
            "5       Peter            Teacher   56000\n",
            "6        Aura            Teacher   40000\n",
            "7       Stacy             Artist   50000\n"
          ]
        }
      ]
    },
    {
      "cell_type": "code",
      "source": [
        "def run_query(query):\n",
        "  return sqldf(query,{'df':df})\n",
        "result=run_query(\"\"\"\n",
        "SELECT *\n",
        "FROM df\n",
        "WHERE NOT Occupation = 'Teacher'\n",
        "\"\"\")\n",
        "print(result)\n"
      ],
      "metadata": {
        "colab": {
          "base_uri": "https://localhost:8080/"
        },
        "id": "B28Zrq6Mvah3",
        "outputId": "68a86892-aef5-4863-d764-8e87c25636b7"
      },
      "execution_count": 12,
      "outputs": [
        {
          "output_type": "stream",
          "name": "stdout",
          "text": [
            "         Name         Occupation  Income\n",
            "0      Purity             Doctor  100000\n",
            "1  Alexandria           Engineer  450000\n",
            "2      Stomzy  Software Engineer   78000\n",
            "3      Ariana              Nurse   69000\n",
            "4        Anna             Singer   78000\n",
            "5       Stacy             Artist   50000\n"
          ]
        }
      ]
    },
    {
      "cell_type": "code",
      "source": [
        "import numpy as np\n",
        "df.loc[len(df.index)]=[\"Amos\",np.nan,np.nan]\n",
        "print(df)"
      ],
      "metadata": {
        "colab": {
          "base_uri": "https://localhost:8080/"
        },
        "id": "FHr3KXxuyF9m",
        "outputId": "90963e21-0059-4e00-abfc-e1081ab2c0a4"
      },
      "execution_count": 13,
      "outputs": [
        {
          "output_type": "stream",
          "name": "stdout",
          "text": [
            "         Name         Occupation    Income\n",
            "0      Purity             Doctor  100000.0\n",
            "1  Alexandria           Engineer  450000.0\n",
            "2      Stomzy  Software Engineer   78000.0\n",
            "3      Ariana              Nurse   69000.0\n",
            "4        Anna             Singer   78000.0\n",
            "5       Peter            Teacher   56000.0\n",
            "6        Aura            Teacher   40000.0\n",
            "7       Stacy             Artist   50000.0\n",
            "8        Amos                NaN       NaN\n"
          ]
        }
      ]
    },
    {
      "cell_type": "code",
      "source": [
        "def run_query(query):\n",
        "  return sqldf(query,{'df':df})\n",
        "result=run_query(\"\"\"\n",
        "SELECT *\n",
        "FROM df\n",
        "WHERE Occupation IS NULL;\n",
        "\"\"\")\n",
        "print(result)\n"
      ],
      "metadata": {
        "colab": {
          "base_uri": "https://localhost:8080/"
        },
        "id": "0SPXByNlyWCD",
        "outputId": "93471179-f1cf-47de-a40d-e956255ff5a7"
      },
      "execution_count": 14,
      "outputs": [
        {
          "output_type": "stream",
          "name": "stdout",
          "text": [
            "   Name Occupation Income\n",
            "0  Amos       None   None\n"
          ]
        }
      ]
    },
    {
      "cell_type": "code",
      "source": [
        "def run_query(query):\n",
        "  return sqldf(query,{\"df\":df})\n",
        "result=run_query(\"\"\"\n",
        "SELECT *\n",
        "FROM df\n",
        "WHERE Income IN (78000);\n",
        "\"\"\")\n",
        "print(result)"
      ],
      "metadata": {
        "colab": {
          "base_uri": "https://localhost:8080/"
        },
        "id": "Q2sI4tF2zEQd",
        "outputId": "308f7335-2b4f-484d-98c5-3fda6d0c01c3"
      },
      "execution_count": 15,
      "outputs": [
        {
          "output_type": "stream",
          "name": "stdout",
          "text": [
            "     Name         Occupation   Income\n",
            "0  Stomzy  Software Engineer  78000.0\n",
            "1    Anna             Singer  78000.0\n"
          ]
        }
      ]
    },
    {
      "cell_type": "code",
      "source": [],
      "metadata": {
        "id": "d08ro5NJh_Hy"
      },
      "execution_count": null,
      "outputs": []
    },
    {
      "cell_type": "code",
      "source": [
        "def run_query(query):\n",
        "  return sqldf(query,{'df':df})\n",
        "result=run_query(\"\"\"\n",
        "SELECT *\n",
        "FROM df\n",
        "WHERE Occupation IS NULL;\n",
        "\"\"\")\n",
        "print(result)\n",
        "new_result=result.fillna(0)\n",
        "new_result"
      ],
      "metadata": {
        "colab": {
          "base_uri": "https://localhost:8080/",
          "height": 181
        },
        "id": "zQoBGfc7g8to",
        "outputId": "10275bc7-b549-4b77-f46e-40d07b9c0f6c"
      },
      "execution_count": 19,
      "outputs": [
        {
          "output_type": "stream",
          "name": "stdout",
          "text": [
            "   Name Occupation Income\n",
            "0  Amos       None   None\n"
          ]
        },
        {
          "output_type": "stream",
          "name": "stderr",
          "text": [
            "<ipython-input-19-d18f8fe4e26a>:9: FutureWarning: Downcasting object dtype arrays on .fillna, .ffill, .bfill is deprecated and will change in a future version. Call result.infer_objects(copy=False) instead. To opt-in to the future behavior, set `pd.set_option('future.no_silent_downcasting', True)`\n",
            "  new_result=result.fillna(0)\n"
          ]
        },
        {
          "output_type": "execute_result",
          "data": {
            "text/plain": [
              "   Name  Occupation  Income\n",
              "0  Amos           0       0"
            ],
            "text/html": [
              "\n",
              "  <div id=\"df-7ea1fe6c-2a61-469d-b142-b21985cbf0c3\" class=\"colab-df-container\">\n",
              "    <div>\n",
              "<style scoped>\n",
              "    .dataframe tbody tr th:only-of-type {\n",
              "        vertical-align: middle;\n",
              "    }\n",
              "\n",
              "    .dataframe tbody tr th {\n",
              "        vertical-align: top;\n",
              "    }\n",
              "\n",
              "    .dataframe thead th {\n",
              "        text-align: right;\n",
              "    }\n",
              "</style>\n",
              "<table border=\"1\" class=\"dataframe\">\n",
              "  <thead>\n",
              "    <tr style=\"text-align: right;\">\n",
              "      <th></th>\n",
              "      <th>Name</th>\n",
              "      <th>Occupation</th>\n",
              "      <th>Income</th>\n",
              "    </tr>\n",
              "  </thead>\n",
              "  <tbody>\n",
              "    <tr>\n",
              "      <th>0</th>\n",
              "      <td>Amos</td>\n",
              "      <td>0</td>\n",
              "      <td>0</td>\n",
              "    </tr>\n",
              "  </tbody>\n",
              "</table>\n",
              "</div>\n",
              "    <div class=\"colab-df-buttons\">\n",
              "\n",
              "  <div class=\"colab-df-container\">\n",
              "    <button class=\"colab-df-convert\" onclick=\"convertToInteractive('df-7ea1fe6c-2a61-469d-b142-b21985cbf0c3')\"\n",
              "            title=\"Convert this dataframe to an interactive table.\"\n",
              "            style=\"display:none;\">\n",
              "\n",
              "  <svg xmlns=\"http://www.w3.org/2000/svg\" height=\"24px\" viewBox=\"0 -960 960 960\">\n",
              "    <path d=\"M120-120v-720h720v720H120Zm60-500h600v-160H180v160Zm220 220h160v-160H400v160Zm0 220h160v-160H400v160ZM180-400h160v-160H180v160Zm440 0h160v-160H620v160ZM180-180h160v-160H180v160Zm440 0h160v-160H620v160Z\"/>\n",
              "  </svg>\n",
              "    </button>\n",
              "\n",
              "  <style>\n",
              "    .colab-df-container {\n",
              "      display:flex;\n",
              "      gap: 12px;\n",
              "    }\n",
              "\n",
              "    .colab-df-convert {\n",
              "      background-color: #E8F0FE;\n",
              "      border: none;\n",
              "      border-radius: 50%;\n",
              "      cursor: pointer;\n",
              "      display: none;\n",
              "      fill: #1967D2;\n",
              "      height: 32px;\n",
              "      padding: 0 0 0 0;\n",
              "      width: 32px;\n",
              "    }\n",
              "\n",
              "    .colab-df-convert:hover {\n",
              "      background-color: #E2EBFA;\n",
              "      box-shadow: 0px 1px 2px rgba(60, 64, 67, 0.3), 0px 1px 3px 1px rgba(60, 64, 67, 0.15);\n",
              "      fill: #174EA6;\n",
              "    }\n",
              "\n",
              "    .colab-df-buttons div {\n",
              "      margin-bottom: 4px;\n",
              "    }\n",
              "\n",
              "    [theme=dark] .colab-df-convert {\n",
              "      background-color: #3B4455;\n",
              "      fill: #D2E3FC;\n",
              "    }\n",
              "\n",
              "    [theme=dark] .colab-df-convert:hover {\n",
              "      background-color: #434B5C;\n",
              "      box-shadow: 0px 1px 3px 1px rgba(0, 0, 0, 0.15);\n",
              "      filter: drop-shadow(0px 1px 2px rgba(0, 0, 0, 0.3));\n",
              "      fill: #FFFFFF;\n",
              "    }\n",
              "  </style>\n",
              "\n",
              "    <script>\n",
              "      const buttonEl =\n",
              "        document.querySelector('#df-7ea1fe6c-2a61-469d-b142-b21985cbf0c3 button.colab-df-convert');\n",
              "      buttonEl.style.display =\n",
              "        google.colab.kernel.accessAllowed ? 'block' : 'none';\n",
              "\n",
              "      async function convertToInteractive(key) {\n",
              "        const element = document.querySelector('#df-7ea1fe6c-2a61-469d-b142-b21985cbf0c3');\n",
              "        const dataTable =\n",
              "          await google.colab.kernel.invokeFunction('convertToInteractive',\n",
              "                                                    [key], {});\n",
              "        if (!dataTable) return;\n",
              "\n",
              "        const docLinkHtml = 'Like what you see? Visit the ' +\n",
              "          '<a target=\"_blank\" href=https://colab.research.google.com/notebooks/data_table.ipynb>data table notebook</a>'\n",
              "          + ' to learn more about interactive tables.';\n",
              "        element.innerHTML = '';\n",
              "        dataTable['output_type'] = 'display_data';\n",
              "        await google.colab.output.renderOutput(dataTable, element);\n",
              "        const docLink = document.createElement('div');\n",
              "        docLink.innerHTML = docLinkHtml;\n",
              "        element.appendChild(docLink);\n",
              "      }\n",
              "    </script>\n",
              "  </div>\n",
              "\n",
              "\n",
              "  <div id=\"id_fd587ddd-3102-4c5c-b3eb-6a98cf756c34\">\n",
              "    <style>\n",
              "      .colab-df-generate {\n",
              "        background-color: #E8F0FE;\n",
              "        border: none;\n",
              "        border-radius: 50%;\n",
              "        cursor: pointer;\n",
              "        display: none;\n",
              "        fill: #1967D2;\n",
              "        height: 32px;\n",
              "        padding: 0 0 0 0;\n",
              "        width: 32px;\n",
              "      }\n",
              "\n",
              "      .colab-df-generate:hover {\n",
              "        background-color: #E2EBFA;\n",
              "        box-shadow: 0px 1px 2px rgba(60, 64, 67, 0.3), 0px 1px 3px 1px rgba(60, 64, 67, 0.15);\n",
              "        fill: #174EA6;\n",
              "      }\n",
              "\n",
              "      [theme=dark] .colab-df-generate {\n",
              "        background-color: #3B4455;\n",
              "        fill: #D2E3FC;\n",
              "      }\n",
              "\n",
              "      [theme=dark] .colab-df-generate:hover {\n",
              "        background-color: #434B5C;\n",
              "        box-shadow: 0px 1px 3px 1px rgba(0, 0, 0, 0.15);\n",
              "        filter: drop-shadow(0px 1px 2px rgba(0, 0, 0, 0.3));\n",
              "        fill: #FFFFFF;\n",
              "      }\n",
              "    </style>\n",
              "    <button class=\"colab-df-generate\" onclick=\"generateWithVariable('new_result')\"\n",
              "            title=\"Generate code using this dataframe.\"\n",
              "            style=\"display:none;\">\n",
              "\n",
              "  <svg xmlns=\"http://www.w3.org/2000/svg\" height=\"24px\"viewBox=\"0 0 24 24\"\n",
              "       width=\"24px\">\n",
              "    <path d=\"M7,19H8.4L18.45,9,17,7.55,7,17.6ZM5,21V16.75L18.45,3.32a2,2,0,0,1,2.83,0l1.4,1.43a1.91,1.91,0,0,1,.58,1.4,1.91,1.91,0,0,1-.58,1.4L9.25,21ZM18.45,9,17,7.55Zm-12,3A5.31,5.31,0,0,0,4.9,8.1,5.31,5.31,0,0,0,1,6.5,5.31,5.31,0,0,0,4.9,4.9,5.31,5.31,0,0,0,6.5,1,5.31,5.31,0,0,0,8.1,4.9,5.31,5.31,0,0,0,12,6.5,5.46,5.46,0,0,0,6.5,12Z\"/>\n",
              "  </svg>\n",
              "    </button>\n",
              "    <script>\n",
              "      (() => {\n",
              "      const buttonEl =\n",
              "        document.querySelector('#id_fd587ddd-3102-4c5c-b3eb-6a98cf756c34 button.colab-df-generate');\n",
              "      buttonEl.style.display =\n",
              "        google.colab.kernel.accessAllowed ? 'block' : 'none';\n",
              "\n",
              "      buttonEl.onclick = () => {\n",
              "        google.colab.notebook.generateWithVariable('new_result');\n",
              "      }\n",
              "      })();\n",
              "    </script>\n",
              "  </div>\n",
              "\n",
              "    </div>\n",
              "  </div>\n"
            ],
            "application/vnd.google.colaboratory.intrinsic+json": {
              "type": "dataframe",
              "variable_name": "new_result",
              "summary": "{\n  \"name\": \"new_result\",\n  \"rows\": 1,\n  \"fields\": [\n    {\n      \"column\": \"Name\",\n      \"properties\": {\n        \"dtype\": \"string\",\n        \"num_unique_values\": 1,\n        \"samples\": [\n          \"Amos\"\n        ],\n        \"semantic_type\": \"\",\n        \"description\": \"\"\n      }\n    },\n    {\n      \"column\": \"Occupation\",\n      \"properties\": {\n        \"dtype\": \"number\",\n        \"std\": null,\n        \"min\": 0,\n        \"max\": 0,\n        \"num_unique_values\": 1,\n        \"samples\": [\n          0\n        ],\n        \"semantic_type\": \"\",\n        \"description\": \"\"\n      }\n    },\n    {\n      \"column\": \"Income\",\n      \"properties\": {\n        \"dtype\": \"number\",\n        \"std\": null,\n        \"min\": 0,\n        \"max\": 0,\n        \"num_unique_values\": 1,\n        \"samples\": [\n          0\n        ],\n        \"semantic_type\": \"\",\n        \"description\": \"\"\n      }\n    }\n  ]\n}"
            }
          },
          "metadata": {},
          "execution_count": 19
        }
      ]
    },
    {
      "cell_type": "code",
      "source": [
        "def run_query(query):\n",
        "  return sqldf(query,{'df':df})\n",
        "result=run_query(\"\"\"\n",
        "SELECT *\n",
        "FROM df\n",
        "WHERE Income IS NOT NULL;\n",
        "\"\"\")\n",
        "print(result)"
      ],
      "metadata": {
        "colab": {
          "base_uri": "https://localhost:8080/"
        },
        "id": "ADhLHk-Nz-SJ",
        "outputId": "7c156d0f-c6f1-47ff-ce00-4aed3f84fbad"
      },
      "execution_count": null,
      "outputs": [
        {
          "output_type": "stream",
          "name": "stdout",
          "text": [
            "         Name         Occupation    Income\n",
            "0      Purity             Doctor  100000.0\n",
            "1  Alexandria           Engineer  450000.0\n",
            "2      Stomzy  Software Engineer   78000.0\n",
            "3      Ariana              Nurse   69000.0\n",
            "4        Anna             Singer   78000.0\n",
            "5       Peter            Teacher   56000.0\n",
            "6        Aura            Teacher   40000.0\n"
          ]
        }
      ]
    },
    {
      "cell_type": "code",
      "source": [
        "def run_quey(query):\n",
        "  return sqldf(query,{'df':df})\n",
        "result=run_query(\"\"\"\n",
        "SELECT *\n",
        "FROM df\n",
        "WHERE Occupation ='Teacher' AND Income BETWEEN 35000 AND 55000;\n",
        "\"\"\")\n",
        "print(result)\n",
        "\n"
      ],
      "metadata": {
        "colab": {
          "base_uri": "https://localhost:8080/"
        },
        "id": "9t1-kUQHby8y",
        "outputId": "30645a02-57ea-4be0-82b0-8e5698319ab5"
      },
      "execution_count": 23,
      "outputs": [
        {
          "output_type": "stream",
          "name": "stdout",
          "text": [
            "   Name Occupation   Income\n",
            "0  Aura    Teacher  40000.0\n"
          ]
        }
      ]
    },
    {
      "cell_type": "code",
      "source": [
        "def run_quey(query):\n",
        "  return sqldf(query,{'df':df})\n",
        "sqldf(\"\"\"\n",
        "DELETE FROM df\n",
        "WHERE Occupation = 'Teacher' AND Income BETWEEN 35000 AND 55000;\n",
        "\"\"\")\n",
        "\n",
        "result=run_query(\"\"\"\n",
        "SELECT *\n",
        "FROM df;\n",
        "\"\"\")\n",
        "print(result)"
      ],
      "metadata": {
        "colab": {
          "base_uri": "https://localhost:8080/"
        },
        "id": "iV79RT-sel3y",
        "outputId": "c2e8c6fb-83c7-49b2-df10-5fabb21098ab"
      },
      "execution_count": 24,
      "outputs": [
        {
          "output_type": "stream",
          "name": "stdout",
          "text": [
            "         Name         Occupation    Income\n",
            "0      Purity             Doctor  100000.0\n",
            "1  Alexandria           Engineer  450000.0\n",
            "2      Stomzy  Software Engineer   78000.0\n",
            "3      Ariana              Nurse   69000.0\n",
            "4        Anna             Singer   78000.0\n",
            "5       Peter            Teacher   56000.0\n",
            "6        Aura            Teacher   40000.0\n",
            "7       Stacy             Artist   50000.0\n",
            "8        Amos               None       NaN\n"
          ]
        }
      ]
    }
  ]
}